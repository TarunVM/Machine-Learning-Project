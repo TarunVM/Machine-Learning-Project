{
 "cells": [
  {
   "cell_type": "markdown",
   "id": "8454d26a",
   "metadata": {},
   "source": [
    "## Content\n",
    "\n",
    "1. **[Import packages](#import_packages)**\n",
    "\n",
    "2. **[Reading data](#load_data)**\n",
    "\n",
    "3. **[Data preparation](#data_preparation)**\n",
    "    - 3.1 - [Dimensions of Dataset](#data_dimension)\n",
    "    - 3.2 - [Statistical Summary](#Stat_sum)\n",
    "    - 3.3 - [Checking Data Type and Missing Values](#check_data_type)\n",
    "    - 3.4 - [Dataframe information](#Data_info)\n",
    "    \n",
    "4. **[EDA](#eda)**\n",
    "    - 4.1 - [Count Plot](#Count_plot)\n",
    "    - 4.2 - [Pie Plot](#Pie)\n",
    "    - 4.3 - [Checking for outlier using box_plot](#box_plot)\n",
    "    - 4.4 - [Outlier](#outlier)\n",
    "    - 4.5 - [Distribution Plot](#distribution_plot)\n",
    "    - 4.6 - [Null Values](#null_values)\n",
    "    - 4.7 - [Heat Map](#heat_map)\n",
    "    - 4.8 - [Multivariate Analysis](#multivariate)\n",
    "        - 4.8.2 - [Correlation Matrix](#corr_mat)\n",
    "    - 4.9 - [Balancing Data via SMOTE](#bal_data)\n",
    "    - 4.10 - [Feature Scaling](#scale)\n",
    "    \n",
    "5. **[Model Building](#model)**\n",
    "    - 5.1 - [Logistic Regression](#log_reg)\n",
    "    - 5.2 - [Naive Bayes](#naive_bayes)\n",
    "    - 5.3 - [K-Nearest Neighbour](#knn)\n",
    "    - 5.4 - [Support Vector Machine](#svm)\n",
    "    - 5.5 - [Decision Tree](#decision_tree)\n",
    "    - 5.6 - [Random Forest](#random_forest)\n",
    "    - 5.7 - [ADA Boost](#ada)\n",
    "    - 5.8 - [XGBM](#xgbm)\n",
    "    - 5.9 - [Bagging classifier](#bag)\n",
    "    \n",
    "6. **[Conclusion](#conclusion)**\n"
   ]
  },
  {
   "cell_type": "markdown",
   "id": "62334a7d",
   "metadata": {},
   "source": [
    "<a id='import_packages'></a>\n",
    "# 1. Importing packages"
   ]
  },
  {
   "cell_type": "code",
   "execution_count": 1,
   "id": "6ed80ab4",
   "metadata": {},
   "outputs": [],
   "source": [
    "import pandas as pd\n",
    "import numpy as np\n",
    "import matplotlib.pyplot as plt\n",
    "import seaborn as sns\n",
    "from sklearn.preprocessing import StandardScaler\n",
    "from sklearn.model_selection import train_test_split\n",
    "\n",
    "import warnings\n",
    "warnings.filterwarnings(\"ignore\")\n",
    "\n",
    "from imblearn.over_sampling import SMOTE\n",
    "\n",
    "\n",
    "from sklearn.linear_model import LogisticRegression\n",
    "from sklearn.naive_bayes import GaussianNB\n",
    "from sklearn.multiclass import OneVsRestClassifier\n",
    "from sklearn.neighbors import KNeighborsClassifier\n",
    "from sklearn import svm\n",
    "from sklearn.tree import DecisionTreeClassifier\n",
    "from sklearn.ensemble import RandomForestClassifier\n",
    "\n",
    "from sklearn.ensemble import AdaBoostClassifier\n",
    "from xgboost.sklearn import XGBClassifier\n",
    "from sklearn.ensemble import BaggingClassifier\n",
    "from sklearn import tree\n",
    "\n",
    "from sklearn.metrics import confusion_matrix\n",
    "from sklearn.metrics import classification_report"
   ]
  },
  {
   "cell_type": "markdown",
   "id": "e92805a2",
   "metadata": {},
   "source": [
    "<a id='load_data'></a>\n",
    "# 2. Reading data"
   ]
  },
  {
   "cell_type": "code",
   "execution_count": 2,
   "id": "7c5e5325",
   "metadata": {},
   "outputs": [
    {
     "data": {
      "text/html": [
       "<div>\n",
       "<style scoped>\n",
       "    .dataframe tbody tr th:only-of-type {\n",
       "        vertical-align: middle;\n",
       "    }\n",
       "\n",
       "    .dataframe tbody tr th {\n",
       "        vertical-align: top;\n",
       "    }\n",
       "\n",
       "    .dataframe thead th {\n",
       "        text-align: right;\n",
       "    }\n",
       "</style>\n",
       "<table border=\"1\" class=\"dataframe\">\n",
       "  <thead>\n",
       "    <tr style=\"text-align: right;\">\n",
       "      <th></th>\n",
       "      <th>ph</th>\n",
       "      <th>Hardness</th>\n",
       "      <th>Solids</th>\n",
       "      <th>Chloramines</th>\n",
       "      <th>Sulfate</th>\n",
       "      <th>Conductivity</th>\n",
       "      <th>Organic_carbon</th>\n",
       "      <th>Trihalomethanes</th>\n",
       "      <th>Turbidity</th>\n",
       "      <th>Potability</th>\n",
       "    </tr>\n",
       "  </thead>\n",
       "  <tbody>\n",
       "    <tr>\n",
       "      <th>0</th>\n",
       "      <td>NaN</td>\n",
       "      <td>204.890456</td>\n",
       "      <td>20791.31898</td>\n",
       "      <td>7.300212</td>\n",
       "      <td>368.516441</td>\n",
       "      <td>564.308654</td>\n",
       "      <td>10.379783</td>\n",
       "      <td>86.990970</td>\n",
       "      <td>2.963135</td>\n",
       "      <td>0</td>\n",
       "    </tr>\n",
       "    <tr>\n",
       "      <th>1</th>\n",
       "      <td>3.716080</td>\n",
       "      <td>129.422921</td>\n",
       "      <td>18630.05786</td>\n",
       "      <td>6.635246</td>\n",
       "      <td>NaN</td>\n",
       "      <td>592.885359</td>\n",
       "      <td>15.180013</td>\n",
       "      <td>56.329076</td>\n",
       "      <td>4.500656</td>\n",
       "      <td>0</td>\n",
       "    </tr>\n",
       "    <tr>\n",
       "      <th>2</th>\n",
       "      <td>8.099124</td>\n",
       "      <td>224.236259</td>\n",
       "      <td>19909.54173</td>\n",
       "      <td>9.275884</td>\n",
       "      <td>NaN</td>\n",
       "      <td>418.606213</td>\n",
       "      <td>16.868637</td>\n",
       "      <td>66.420093</td>\n",
       "      <td>3.055934</td>\n",
       "      <td>0</td>\n",
       "    </tr>\n",
       "    <tr>\n",
       "      <th>3</th>\n",
       "      <td>8.316766</td>\n",
       "      <td>214.373394</td>\n",
       "      <td>22018.41744</td>\n",
       "      <td>8.059332</td>\n",
       "      <td>356.886136</td>\n",
       "      <td>363.266516</td>\n",
       "      <td>18.436525</td>\n",
       "      <td>100.341674</td>\n",
       "      <td>4.628771</td>\n",
       "      <td>0</td>\n",
       "    </tr>\n",
       "    <tr>\n",
       "      <th>4</th>\n",
       "      <td>9.092223</td>\n",
       "      <td>181.101509</td>\n",
       "      <td>17978.98634</td>\n",
       "      <td>6.546600</td>\n",
       "      <td>310.135738</td>\n",
       "      <td>398.410813</td>\n",
       "      <td>11.558279</td>\n",
       "      <td>31.997993</td>\n",
       "      <td>4.075075</td>\n",
       "      <td>0</td>\n",
       "    </tr>\n",
       "  </tbody>\n",
       "</table>\n",
       "</div>"
      ],
      "text/plain": [
       "         ph    Hardness       Solids  Chloramines     Sulfate  Conductivity  \\\n",
       "0       NaN  204.890456  20791.31898     7.300212  368.516441    564.308654   \n",
       "1  3.716080  129.422921  18630.05786     6.635246         NaN    592.885359   \n",
       "2  8.099124  224.236259  19909.54173     9.275884         NaN    418.606213   \n",
       "3  8.316766  214.373394  22018.41744     8.059332  356.886136    363.266516   \n",
       "4  9.092223  181.101509  17978.98634     6.546600  310.135738    398.410813   \n",
       "\n",
       "   Organic_carbon  Trihalomethanes  Turbidity  Potability  \n",
       "0       10.379783        86.990970   2.963135           0  \n",
       "1       15.180013        56.329076   4.500656           0  \n",
       "2       16.868637        66.420093   3.055934           0  \n",
       "3       18.436525       100.341674   4.628771           0  \n",
       "4       11.558279        31.997993   4.075075           0  "
      ]
     },
     "execution_count": 2,
     "metadata": {},
     "output_type": "execute_result"
    }
   ],
   "source": [
    "water = pd.read_csv(r'C:\\Users\\Tarun\\Desktop\\DS\\Machine Learning\\Capstone_project\\water_potability.csv')\n",
    "water.head()"
   ]
  },
  {
   "cell_type": "markdown",
   "id": "d102581a",
   "metadata": {},
   "source": [
    "#### Feature description:\n",
    "\n",
    "1. ph: pH of water (0 to 14).\n",
    "2. Hardness: Capacity of water to precipitate soap in mg/L.\n",
    "3. Solids: Total dissolved solids in ppm.\n",
    "4. Chloramines: Amount of Chloramines in ppm.\n",
    "5. Sulfate: Amount of Sulfates dissolved in mg/L.\n",
    "6. Conductivity: Electrical conductivity of water in μS/cm.\n",
    "7. Organic_carbon: Amount of organic carbon in ppm.\n",
    "8. Trihalomethanes: Amount of Trihalomethanes in μg/L.\n",
    "9. Turbidity: Measure of light emiting property of water in NTU.\n",
    "10. Potability: Indicates if water is safe for human consumption. Potable -1 and Not potable -0\n",
    "\n",
    "###### Units : \n",
    "1. mg/L: milligram per litre\n",
    "2. ppm: parts per million\n",
    "3. μS/cm : MicroSiemens per cm\n",
    "4. μg/L : Micrograms per Liter\n",
    "5. NTU : nephelometric turbidity units"
   ]
  },
  {
   "cell_type": "markdown",
   "id": "975d96b1",
   "metadata": {},
   "source": [
    "5 samples to know the random data in the dataframe"
   ]
  },
  {
   "cell_type": "code",
   "execution_count": 3,
   "id": "1669a5ef",
   "metadata": {},
   "outputs": [
    {
     "data": {
      "text/html": [
       "<div>\n",
       "<style scoped>\n",
       "    .dataframe tbody tr th:only-of-type {\n",
       "        vertical-align: middle;\n",
       "    }\n",
       "\n",
       "    .dataframe tbody tr th {\n",
       "        vertical-align: top;\n",
       "    }\n",
       "\n",
       "    .dataframe thead th {\n",
       "        text-align: right;\n",
       "    }\n",
       "</style>\n",
       "<table border=\"1\" class=\"dataframe\">\n",
       "  <thead>\n",
       "    <tr style=\"text-align: right;\">\n",
       "      <th></th>\n",
       "      <th>ph</th>\n",
       "      <th>Hardness</th>\n",
       "      <th>Solids</th>\n",
       "      <th>Chloramines</th>\n",
       "      <th>Sulfate</th>\n",
       "      <th>Conductivity</th>\n",
       "      <th>Organic_carbon</th>\n",
       "      <th>Trihalomethanes</th>\n",
       "      <th>Turbidity</th>\n",
       "      <th>Potability</th>\n",
       "    </tr>\n",
       "  </thead>\n",
       "  <tbody>\n",
       "    <tr>\n",
       "      <th>1981</th>\n",
       "      <td>NaN</td>\n",
       "      <td>209.751955</td>\n",
       "      <td>20214.21655</td>\n",
       "      <td>6.045078</td>\n",
       "      <td>323.788383</td>\n",
       "      <td>539.464723</td>\n",
       "      <td>20.278990</td>\n",
       "      <td>72.735207</td>\n",
       "      <td>4.258489</td>\n",
       "      <td>1</td>\n",
       "    </tr>\n",
       "    <tr>\n",
       "      <th>1039</th>\n",
       "      <td>8.937802</td>\n",
       "      <td>147.916892</td>\n",
       "      <td>10562.46054</td>\n",
       "      <td>3.694275</td>\n",
       "      <td>371.176313</td>\n",
       "      <td>480.320218</td>\n",
       "      <td>16.980755</td>\n",
       "      <td>61.158047</td>\n",
       "      <td>2.831234</td>\n",
       "      <td>0</td>\n",
       "    </tr>\n",
       "    <tr>\n",
       "      <th>1080</th>\n",
       "      <td>7.603775</td>\n",
       "      <td>214.682778</td>\n",
       "      <td>11459.62244</td>\n",
       "      <td>10.999995</td>\n",
       "      <td>398.920869</td>\n",
       "      <td>321.069074</td>\n",
       "      <td>12.010676</td>\n",
       "      <td>58.100707</td>\n",
       "      <td>3.584985</td>\n",
       "      <td>1</td>\n",
       "    </tr>\n",
       "    <tr>\n",
       "      <th>1905</th>\n",
       "      <td>6.967861</td>\n",
       "      <td>183.933476</td>\n",
       "      <td>13401.04439</td>\n",
       "      <td>6.457687</td>\n",
       "      <td>371.788364</td>\n",
       "      <td>433.239429</td>\n",
       "      <td>14.584231</td>\n",
       "      <td>66.029156</td>\n",
       "      <td>4.893215</td>\n",
       "      <td>1</td>\n",
       "    </tr>\n",
       "    <tr>\n",
       "      <th>3034</th>\n",
       "      <td>6.988206</td>\n",
       "      <td>144.209535</td>\n",
       "      <td>33357.51586</td>\n",
       "      <td>6.771945</td>\n",
       "      <td>NaN</td>\n",
       "      <td>409.006789</td>\n",
       "      <td>17.880332</td>\n",
       "      <td>54.111785</td>\n",
       "      <td>1.899683</td>\n",
       "      <td>0</td>\n",
       "    </tr>\n",
       "  </tbody>\n",
       "</table>\n",
       "</div>"
      ],
      "text/plain": [
       "            ph    Hardness       Solids  Chloramines     Sulfate  \\\n",
       "1981       NaN  209.751955  20214.21655     6.045078  323.788383   \n",
       "1039  8.937802  147.916892  10562.46054     3.694275  371.176313   \n",
       "1080  7.603775  214.682778  11459.62244    10.999995  398.920869   \n",
       "1905  6.967861  183.933476  13401.04439     6.457687  371.788364   \n",
       "3034  6.988206  144.209535  33357.51586     6.771945         NaN   \n",
       "\n",
       "      Conductivity  Organic_carbon  Trihalomethanes  Turbidity  Potability  \n",
       "1981    539.464723       20.278990        72.735207   4.258489           1  \n",
       "1039    480.320218       16.980755        61.158047   2.831234           0  \n",
       "1080    321.069074       12.010676        58.100707   3.584985           1  \n",
       "1905    433.239429       14.584231        66.029156   4.893215           1  \n",
       "3034    409.006789       17.880332        54.111785   1.899683           0  "
      ]
     },
     "execution_count": 3,
     "metadata": {},
     "output_type": "execute_result"
    }
   ],
   "source": [
    "water.sample(5)"
   ]
  },
  {
   "cell_type": "markdown",
   "id": "32523869",
   "metadata": {},
   "source": [
    "<a id='data_preparation'></a>\n",
    "\n",
    "# 3. Data preparation"
   ]
  },
  {
   "cell_type": "markdown",
   "id": "16fbaf82",
   "metadata": {},
   "source": [
    "<a id='data_dimension'></a>\n",
    "### 3.1 Dimensions of Dataset\n",
    "To get an idea of about instances (rows) and attributes (columns) in the data using the shape property."
   ]
  },
  {
   "cell_type": "code",
   "execution_count": 4,
   "id": "328953d1",
   "metadata": {},
   "outputs": [
    {
     "data": {
      "text/plain": [
       "(3276, 10)"
      ]
     },
     "execution_count": 4,
     "metadata": {},
     "output_type": "execute_result"
    }
   ],
   "source": [
    "water.shape"
   ]
  },
  {
   "cell_type": "markdown",
   "id": "858e7e3f",
   "metadata": {},
   "source": [
    "<a id='Stat_sum'></a>\n",
    "\n",
    "### 3.2 Statistical summary of data"
   ]
  },
  {
   "cell_type": "code",
   "execution_count": 5,
   "id": "8e9d9024",
   "metadata": {},
   "outputs": [
    {
     "data": {
      "text/html": [
       "<div>\n",
       "<style scoped>\n",
       "    .dataframe tbody tr th:only-of-type {\n",
       "        vertical-align: middle;\n",
       "    }\n",
       "\n",
       "    .dataframe tbody tr th {\n",
       "        vertical-align: top;\n",
       "    }\n",
       "\n",
       "    .dataframe thead th {\n",
       "        text-align: right;\n",
       "    }\n",
       "</style>\n",
       "<table border=\"1\" class=\"dataframe\">\n",
       "  <thead>\n",
       "    <tr style=\"text-align: right;\">\n",
       "      <th></th>\n",
       "      <th>ph</th>\n",
       "      <th>Hardness</th>\n",
       "      <th>Solids</th>\n",
       "      <th>Chloramines</th>\n",
       "      <th>Sulfate</th>\n",
       "      <th>Conductivity</th>\n",
       "      <th>Organic_carbon</th>\n",
       "      <th>Trihalomethanes</th>\n",
       "      <th>Turbidity</th>\n",
       "      <th>Potability</th>\n",
       "    </tr>\n",
       "  </thead>\n",
       "  <tbody>\n",
       "    <tr>\n",
       "      <th>count</th>\n",
       "      <td>2785.000000</td>\n",
       "      <td>3276.000000</td>\n",
       "      <td>3276.000000</td>\n",
       "      <td>3276.000000</td>\n",
       "      <td>2495.000000</td>\n",
       "      <td>3276.000000</td>\n",
       "      <td>3276.000000</td>\n",
       "      <td>3114.000000</td>\n",
       "      <td>3276.000000</td>\n",
       "      <td>3276.000000</td>\n",
       "    </tr>\n",
       "    <tr>\n",
       "      <th>mean</th>\n",
       "      <td>7.080795</td>\n",
       "      <td>196.369496</td>\n",
       "      <td>22014.092526</td>\n",
       "      <td>7.122277</td>\n",
       "      <td>333.775777</td>\n",
       "      <td>426.205111</td>\n",
       "      <td>14.284970</td>\n",
       "      <td>66.396293</td>\n",
       "      <td>3.966786</td>\n",
       "      <td>0.390110</td>\n",
       "    </tr>\n",
       "    <tr>\n",
       "      <th>std</th>\n",
       "      <td>1.594320</td>\n",
       "      <td>32.879761</td>\n",
       "      <td>8768.570828</td>\n",
       "      <td>1.583085</td>\n",
       "      <td>41.416840</td>\n",
       "      <td>80.824064</td>\n",
       "      <td>3.308162</td>\n",
       "      <td>16.175008</td>\n",
       "      <td>0.780382</td>\n",
       "      <td>0.487849</td>\n",
       "    </tr>\n",
       "    <tr>\n",
       "      <th>min</th>\n",
       "      <td>0.000000</td>\n",
       "      <td>47.432000</td>\n",
       "      <td>320.942611</td>\n",
       "      <td>0.352000</td>\n",
       "      <td>129.000000</td>\n",
       "      <td>181.483754</td>\n",
       "      <td>2.200000</td>\n",
       "      <td>0.738000</td>\n",
       "      <td>1.450000</td>\n",
       "      <td>0.000000</td>\n",
       "    </tr>\n",
       "    <tr>\n",
       "      <th>25%</th>\n",
       "      <td>6.093092</td>\n",
       "      <td>176.850538</td>\n",
       "      <td>15666.690300</td>\n",
       "      <td>6.127421</td>\n",
       "      <td>307.699498</td>\n",
       "      <td>365.734414</td>\n",
       "      <td>12.065801</td>\n",
       "      <td>55.844536</td>\n",
       "      <td>3.439711</td>\n",
       "      <td>0.000000</td>\n",
       "    </tr>\n",
       "    <tr>\n",
       "      <th>50%</th>\n",
       "      <td>7.036752</td>\n",
       "      <td>196.967627</td>\n",
       "      <td>20927.833605</td>\n",
       "      <td>7.130299</td>\n",
       "      <td>333.073546</td>\n",
       "      <td>421.884968</td>\n",
       "      <td>14.218338</td>\n",
       "      <td>66.622485</td>\n",
       "      <td>3.955028</td>\n",
       "      <td>0.000000</td>\n",
       "    </tr>\n",
       "    <tr>\n",
       "      <th>75%</th>\n",
       "      <td>8.062066</td>\n",
       "      <td>216.667456</td>\n",
       "      <td>27332.762125</td>\n",
       "      <td>8.114887</td>\n",
       "      <td>359.950170</td>\n",
       "      <td>481.792305</td>\n",
       "      <td>16.557652</td>\n",
       "      <td>77.337473</td>\n",
       "      <td>4.500320</td>\n",
       "      <td>1.000000</td>\n",
       "    </tr>\n",
       "    <tr>\n",
       "      <th>max</th>\n",
       "      <td>14.000000</td>\n",
       "      <td>323.124000</td>\n",
       "      <td>61227.196010</td>\n",
       "      <td>13.127000</td>\n",
       "      <td>481.030642</td>\n",
       "      <td>753.342620</td>\n",
       "      <td>28.300000</td>\n",
       "      <td>124.000000</td>\n",
       "      <td>6.739000</td>\n",
       "      <td>1.000000</td>\n",
       "    </tr>\n",
       "  </tbody>\n",
       "</table>\n",
       "</div>"
      ],
      "text/plain": [
       "                ph     Hardness        Solids  Chloramines      Sulfate  \\\n",
       "count  2785.000000  3276.000000   3276.000000  3276.000000  2495.000000   \n",
       "mean      7.080795   196.369496  22014.092526     7.122277   333.775777   \n",
       "std       1.594320    32.879761   8768.570828     1.583085    41.416840   \n",
       "min       0.000000    47.432000    320.942611     0.352000   129.000000   \n",
       "25%       6.093092   176.850538  15666.690300     6.127421   307.699498   \n",
       "50%       7.036752   196.967627  20927.833605     7.130299   333.073546   \n",
       "75%       8.062066   216.667456  27332.762125     8.114887   359.950170   \n",
       "max      14.000000   323.124000  61227.196010    13.127000   481.030642   \n",
       "\n",
       "       Conductivity  Organic_carbon  Trihalomethanes    Turbidity   Potability  \n",
       "count   3276.000000     3276.000000      3114.000000  3276.000000  3276.000000  \n",
       "mean     426.205111       14.284970        66.396293     3.966786     0.390110  \n",
       "std       80.824064        3.308162        16.175008     0.780382     0.487849  \n",
       "min      181.483754        2.200000         0.738000     1.450000     0.000000  \n",
       "25%      365.734414       12.065801        55.844536     3.439711     0.000000  \n",
       "50%      421.884968       14.218338        66.622485     3.955028     0.000000  \n",
       "75%      481.792305       16.557652        77.337473     4.500320     1.000000  \n",
       "max      753.342620       28.300000       124.000000     6.739000     1.000000  "
      ]
     },
     "execution_count": 5,
     "metadata": {},
     "output_type": "execute_result"
    }
   ],
   "source": [
    "water.describe()"
   ]
  },
  {
   "cell_type": "markdown",
   "id": "086a2832",
   "metadata": {},
   "source": [
    "<a id='check_data_type'></a>\n",
    "\n",
    "### 3.3 Checking data types"
   ]
  },
  {
   "cell_type": "code",
   "execution_count": 6,
   "id": "fa8c1a13",
   "metadata": {},
   "outputs": [
    {
     "data": {
      "text/plain": [
       "ph                 float64\n",
       "Hardness           float64\n",
       "Solids             float64\n",
       "Chloramines        float64\n",
       "Sulfate            float64\n",
       "Conductivity       float64\n",
       "Organic_carbon     float64\n",
       "Trihalomethanes    float64\n",
       "Turbidity          float64\n",
       "Potability           int64\n",
       "dtype: object"
      ]
     },
     "execution_count": 6,
     "metadata": {},
     "output_type": "execute_result"
    }
   ],
   "source": [
    "water.dtypes"
   ]
  },
  {
   "cell_type": "markdown",
   "id": "47f16490",
   "metadata": {},
   "source": [
    "<a id='Data_info'></a>\n",
    "\n",
    "\n",
    "### 3.4 Information of datatypes as well as null count"
   ]
  },
  {
   "cell_type": "code",
   "execution_count": 7,
   "id": "b90daba1",
   "metadata": {},
   "outputs": [
    {
     "name": "stdout",
     "output_type": "stream",
     "text": [
      "<class 'pandas.core.frame.DataFrame'>\n",
      "RangeIndex: 3276 entries, 0 to 3275\n",
      "Data columns (total 10 columns):\n",
      " #   Column           Non-Null Count  Dtype  \n",
      "---  ------           --------------  -----  \n",
      " 0   ph               2785 non-null   float64\n",
      " 1   Hardness         3276 non-null   float64\n",
      " 2   Solids           3276 non-null   float64\n",
      " 3   Chloramines      3276 non-null   float64\n",
      " 4   Sulfate          2495 non-null   float64\n",
      " 5   Conductivity     3276 non-null   float64\n",
      " 6   Organic_carbon   3276 non-null   float64\n",
      " 7   Trihalomethanes  3114 non-null   float64\n",
      " 8   Turbidity        3276 non-null   float64\n",
      " 9   Potability       3276 non-null   int64  \n",
      "dtypes: float64(9), int64(1)\n",
      "memory usage: 256.1 KB\n"
     ]
    }
   ],
   "source": [
    "water.info()"
   ]
  },
  {
   "cell_type": "markdown",
   "id": "5dbbafe1",
   "metadata": {},
   "source": [
    "# 4. EDA\n",
    "<a id='eda'></a>"
   ]
  },
  {
   "cell_type": "markdown",
   "id": "0ea1830b",
   "metadata": {},
   "source": [
    "### 4.1 Count plot to know the feature water potability\n",
    "<a id='Count_plot'></a>"
   ]
  },
  {
   "cell_type": "code",
   "execution_count": 8,
   "id": "be86cdaa",
   "metadata": {},
   "outputs": [
    {
     "data": {
      "text/plain": [
       "<AxesSubplot:xlabel='Potability', ylabel='count'>"
      ]
     },
     "execution_count": 8,
     "metadata": {},
     "output_type": "execute_result"
    },
    {
     "data": {
      "image/png": "[encoded data removed]",
      "text/plain": [
       "<Figure size 432x288 with 1 Axes>"
      ]
     },
     "metadata": {
      "needs_background": "light"
     },
     "output_type": "display_data"
    }
   ],
   "source": [
    "sns.countplot(water[\"Potability\"] ,data=water,palette = 'rainbow')"
   ]
  },
  {
   "cell_type": "markdown",
   "id": "fa012cbf",
   "metadata": {},
   "source": [
    "### 4.2 Pie plot to know the feature water potability in perecentage\n",
    "<a id='Pie'></a>"
   ]
  },
  {
   "cell_type": "code",
   "execution_count": 9,
   "id": "ee3513e4",
   "metadata": {},
   "outputs": [
    {
     "data": {
      "text/plain": [
       "Text(0.5, 1.0, 'Water Potabilty')"
      ]
     },
     "execution_count": 9,
     "metadata": {},
     "output_type": "execute_result"
    },
    {
     "data": {
      "image/png": "[encoded data removed]",
      "text/plain": [
       "<Figure size 648x504 with 1 Axes>"
      ]
     },
     "metadata": {},
     "output_type": "display_data"
    }
   ],
   "source": [
    "plt.figure(figsize=(9,7))\n",
    "water.groupby('Potability').size().plot(kind='pie', autopct='%.2f')\n",
    "plt.title('Water Potabilty')"
   ]
  },
  {
   "cell_type": "markdown",
   "id": "a2dfbd99",
   "metadata": {},
   "source": [
    "### Potability : 1    \n",
    "### Not-Potability  : 0"
   ]
  },
  {
   "cell_type": "markdown",
   "id": "51965830",
   "metadata": {},
   "source": [
    "### 4.3 Checking for outliers\n",
    "<a id='box_plot'></a>"
   ]
  },
  {
   "cell_type": "markdown",
   "id": "4557068a",
   "metadata": {},
   "source": [
    "### Plotting box plot after outlier treatment"
   ]
  },
  {
   "cell_type": "code",
   "execution_count": 10,
   "id": "e98856b5",
   "metadata": {
    "scrolled": false
   },
   "outputs": [
    {
     "data": {
      "image/png": "[encoded data removed]",
      "text/plain": [
       "<Figure size 1080x864 with 9 Axes>"
      ]
     },
     "metadata": {
      "needs_background": "light"
     },
     "output_type": "display_data"
    }
   ],
   "source": [
    "plt.figure(figsize=(15, 12))\n",
    "\n",
    "plt.subplot(3,3,1)\n",
    "sns.boxplot(water[\"ph\"])\n",
    "\n",
    "plt.subplot(3,3,2)\n",
    "sns.boxplot(water[\"Hardness\"])\n",
    "\n",
    "plt.subplot(3,3,3)\n",
    "sns.boxplot(water[\"Solids\"])\n",
    "\n",
    "plt.subplot(3,3,4)\n",
    "sns.boxplot(water[\"Chloramines\"])\n",
    "\n",
    "plt.subplot(3,3,5)\n",
    "sns.boxplot(water[\"Sulfate\"])\n",
    "\n",
    "plt.subplot(3,3,6)\n",
    "sns.boxplot(water[\"Conductivity\"])\n",
    "\n",
    "plt.subplot(3,3,7)\n",
    "sns.boxplot(water[\"Organic_carbon\"])\n",
    "\n",
    "plt.subplot(3,3,8)\n",
    "sns.boxplot(water[\"Trihalomethanes\"])\n",
    "\n",
    "plt.subplot(3,3,9)\n",
    "sns.boxplot(water[\"Turbidity\"])\n",
    "\n",
    "plt.show()"
   ]
  },
  {
   "cell_type": "markdown",
   "id": "e68305ce",
   "metadata": {},
   "source": []
  },
  {
   "cell_type": "code",
   "execution_count": 11,
   "id": "8a3bdc46",
   "metadata": {
    "scrolled": false
   },
   "outputs": [
    {
     "data": {
      "image/png": "[encoded data removed]",
      "text/plain": [
       "<Figure size 1080x864 with 9 Axes>"
      ]
     },
     "metadata": {
      "needs_background": "light"
     },
     "output_type": "display_data"
    }
   ],
   "source": [
    "plt.figure(figsize=(15, 12))\n",
    "\n",
    "plt.subplot(3,3,1)\n",
    "sns.distplot(water[\"ph\"])\n",
    "\n",
    "plt.subplot(3,3,2)\n",
    "sns.distplot(water[\"Hardness\"])\n",
    "\n",
    "plt.subplot(3,3,3)\n",
    "sns.distplot(water[\"Solids\"])\n",
    "\n",
    "plt.subplot(3,3,4)\n",
    "sns.distplot(water[\"Chloramines\"])\n",
    "\n",
    "plt.subplot(3,3,5)\n",
    "sns.distplot(water[\"Sulfate\"])\n",
    "\n",
    "plt.subplot(3,3,6)\n",
    "sns.distplot(water[\"Conductivity\"])\n",
    "\n",
    "plt.subplot(3,3,7)\n",
    "sns.distplot(water[\"Organic_carbon\"])\n",
    "\n",
    "plt.subplot(3,3,8)\n",
    "sns.distplot(water[\"Trihalomethanes\"])\n",
    "\n",
    "plt.subplot(3,3,9)\n",
    "sns.distplot(water[\"Turbidity\"])\n",
    "\n",
    "plt.show()"
   ]
  },
  {
   "cell_type": "markdown",
   "id": "1c4c51dc",
   "metadata": {},
   "source": [
    "All features are normally distributed"
   ]
  },
  {
   "cell_type": "markdown",
   "id": "b8ed8cce",
   "metadata": {},
   "source": [
    "### 4.4 Outlier treatment\n",
    "<a id='outlier'></a>"
   ]
  },
  {
   "cell_type": "markdown",
   "id": "26cbd005",
   "metadata": {},
   "source": [
    "#### An outlier is an observation that lies in abnormal distance from other values in a random sample from a population.\n",
    "#### As we saw above the black dots before/after the plot are the values which are considered as outliers"
   ]
  },
  {
   "cell_type": "code",
   "execution_count": 12,
   "id": "bdf3c6de",
   "metadata": {},
   "outputs": [],
   "source": [
    "def outliers_transform(base_dataset):\n",
    "    for i in base_dataset.var().sort_values(ascending = False).index[0:8]:\n",
    "        x=np.array(base_dataset[i])\n",
    "        qr1 = np.quantile(x, 0.25)\n",
    "        qr3 = np.quantile(x, 0.75)\n",
    "        iqr = qr3-qr1\n",
    "        utv = qr3+(1.5*(iqr))\n",
    "        ltv = qr1-(1.5*(iqr))\n",
    "        y = [] \n",
    "        for p in x:\n",
    "            if p<ltv or p>utv:\n",
    "                y.append(np.median(x))\n",
    "            else:\n",
    "                y.append(p)\n",
    "        base_dataset[i] = y"
   ]
  },
  {
   "cell_type": "code",
   "execution_count": 13,
   "id": "25d47e9a",
   "metadata": {},
   "outputs": [],
   "source": [
    "outliers_transform(water)"
   ]
  },
  {
   "cell_type": "code",
   "execution_count": 14,
   "id": "ee34104f",
   "metadata": {},
   "outputs": [
    {
     "data": {
      "text/plain": [
       "Index(['ph', 'Hardness', 'Solids', 'Chloramines', 'Sulfate', 'Conductivity',\n",
       "       'Organic_carbon', 'Trihalomethanes', 'Turbidity', 'Potability'],\n",
       "      dtype='object')"
      ]
     },
     "execution_count": 14,
     "metadata": {},
     "output_type": "execute_result"
    }
   ],
   "source": [
    "water.columns"
   ]
  },
  {
   "cell_type": "markdown",
   "id": "79a1a019",
   "metadata": {},
   "source": [
    "### 4.5 Distribution plot to check whether it is normally distributed or not\n",
    "<a id='distribution_plot'></a>"
   ]
  },
  {
   "cell_type": "code",
   "execution_count": 15,
   "id": "a8526870",
   "metadata": {},
   "outputs": [
    {
     "data": {
      "image/png": "[encoded data removed]",
      "text/plain": [
       "<Figure size 1080x864 with 9 Axes>"
      ]
     },
     "metadata": {
      "needs_background": "light"
     },
     "output_type": "display_data"
    }
   ],
   "source": [
    "plt.figure(figsize=(15, 12))\n",
    "\n",
    "plt.subplot(3,3,1)\n",
    "sns.distplot(water[\"ph\"])\n",
    "\n",
    "plt.subplot(3,3,2)\n",
    "sns.distplot(water[\"Hardness\"])\n",
    "\n",
    "plt.subplot(3,3,3)\n",
    "sns.distplot(water[\"Solids\"])\n",
    "\n",
    "plt.subplot(3,3,4)\n",
    "sns.distplot(water[\"Chloramines\"])\n",
    "\n",
    "plt.subplot(3,3,5)\n",
    "sns.distplot(water[\"Sulfate\"])\n",
    "\n",
    "plt.subplot(3,3,6)\n",
    "sns.distplot(water[\"Conductivity\"])\n",
    "\n",
    "plt.subplot(3,3,7)\n",
    "sns.distplot(water[\"Organic_carbon\"])\n",
    "\n",
    "plt.subplot(3,3,8)\n",
    "sns.distplot(water[\"Trihalomethanes\"])\n",
    "\n",
    "plt.subplot(3,3,9)\n",
    "sns.distplot(water[\"Turbidity\"])\n",
    "\n",
    "plt.show()"
   ]
  },
  {
   "cell_type": "markdown",
   "id": "53d18144",
   "metadata": {},
   "source": [
    "### 4.6 Check for null values\n",
    "<a id='null_values'></a>"
   ]
  },
  {
   "cell_type": "code",
   "execution_count": 16,
   "id": "275f928b",
   "metadata": {},
   "outputs": [
    {
     "data": {
      "text/plain": [
       "ph                 491\n",
       "Hardness             0\n",
       "Solids               0\n",
       "Chloramines          0\n",
       "Sulfate            781\n",
       "Conductivity         0\n",
       "Organic_carbon       0\n",
       "Trihalomethanes    162\n",
       "Turbidity            0\n",
       "Potability           0\n",
       "dtype: int64"
      ]
     },
     "execution_count": 16,
     "metadata": {},
     "output_type": "execute_result"
    }
   ],
   "source": [
    "water.isnull().sum()"
   ]
  },
  {
   "cell_type": "markdown",
   "id": "63697e6e",
   "metadata": {},
   "source": [
    "### 4.7 Heat Map\n",
    "<a id='heat_map'></a>"
   ]
  },
  {
   "cell_type": "code",
   "execution_count": 17,
   "id": "53f1ecdb",
   "metadata": {},
   "outputs": [
    {
     "data": {
      "image/png": "[encoded data removed]",
      "text/plain": [
       "<Figure size 432x288 with 1 Axes>"
      ]
     },
     "metadata": {
      "needs_background": "light"
     },
     "output_type": "display_data"
    }
   ],
   "source": [
    "# plot heatmap to check null values\n",
    "# 'cbar = False' does not show the color axis \n",
    "sns.heatmap(water.isnull(), cbar=False)\n",
    "\n",
    "# display the plot\n",
    "plt.show()"
   ]
  },
  {
   "cell_type": "code",
   "execution_count": 18,
   "id": "cee5ccc9",
   "metadata": {},
   "outputs": [],
   "source": [
    "#Replace null values based on the group/sample mean\n",
    "water['ph']=water['ph'].fillna(water.groupby(['Potability'])['ph'].transform('mean'))\n",
    "water['Sulfate']=water['Sulfate'].fillna(water.groupby(['Potability'])['Sulfate'].transform('mean'))\n",
    "water['Trihalomethanes']=water['Trihalomethanes'].fillna(water.groupby(['Potability'])['Trihalomethanes'].transform('mean'))"
   ]
  },
  {
   "cell_type": "code",
   "execution_count": 19,
   "id": "4680b7ed",
   "metadata": {},
   "outputs": [
    {
     "data": {
      "text/plain": [
       "ph                 0\n",
       "Hardness           0\n",
       "Solids             0\n",
       "Chloramines        0\n",
       "Sulfate            0\n",
       "Conductivity       0\n",
       "Organic_carbon     0\n",
       "Trihalomethanes    0\n",
       "Turbidity          0\n",
       "Potability         0\n",
       "dtype: int64"
      ]
     },
     "execution_count": 19,
     "metadata": {},
     "output_type": "execute_result"
    }
   ],
   "source": [
    "water.isnull().sum()"
   ]
  },
  {
   "cell_type": "code",
   "execution_count": 20,
   "id": "4a33bb11",
   "metadata": {},
   "outputs": [
    {
     "data": {
      "text/plain": [
       "(3276, 10)"
      ]
     },
     "execution_count": 20,
     "metadata": {},
     "output_type": "execute_result"
    }
   ],
   "source": [
    "water.shape"
   ]
  },
  {
   "cell_type": "code",
   "execution_count": 21,
   "id": "57a8edae",
   "metadata": {},
   "outputs": [
    {
     "data": {
      "image/png": "[encoded data removed]",
      "text/plain": [
       "<Figure size 432x288 with 1 Axes>"
      ]
     },
     "metadata": {
      "needs_background": "light"
     },
     "output_type": "display_data"
    }
   ],
   "source": [
    "# plot heatmap to check null values\n",
    "# 'cbar = False' does not show the color axis \n",
    "sns.heatmap(water.isnull(), cbar=False)\n",
    "\n",
    "# display the plot\n",
    "plt.show()"
   ]
  },
  {
   "cell_type": "code",
   "execution_count": 22,
   "id": "5ed285be",
   "metadata": {
    "scrolled": true
   },
   "outputs": [
    {
     "data": {
      "text/html": [
       "<div>\n",
       "<style scoped>\n",
       "    .dataframe tbody tr th:only-of-type {\n",
       "        vertical-align: middle;\n",
       "    }\n",
       "\n",
       "    .dataframe tbody tr th {\n",
       "        vertical-align: top;\n",
       "    }\n",
       "\n",
       "    .dataframe thead th {\n",
       "        text-align: right;\n",
       "    }\n",
       "</style>\n",
       "<table border=\"1\" class=\"dataframe\">\n",
       "  <thead>\n",
       "    <tr style=\"text-align: right;\">\n",
       "      <th></th>\n",
       "      <th>ph</th>\n",
       "      <th>Hardness</th>\n",
       "      <th>Solids</th>\n",
       "      <th>Chloramines</th>\n",
       "      <th>Sulfate</th>\n",
       "      <th>Conductivity</th>\n",
       "      <th>Organic_carbon</th>\n",
       "      <th>Trihalomethanes</th>\n",
       "      <th>Turbidity</th>\n",
       "      <th>Potability</th>\n",
       "    </tr>\n",
       "  </thead>\n",
       "  <tbody>\n",
       "    <tr>\n",
       "      <th>105</th>\n",
       "      <td>8.490572</td>\n",
       "      <td>204.123648</td>\n",
       "      <td>22989.796390</td>\n",
       "      <td>8.270793</td>\n",
       "      <td>358.847115</td>\n",
       "      <td>435.000898</td>\n",
       "      <td>17.084246</td>\n",
       "      <td>62.421637</td>\n",
       "      <td>3.875557</td>\n",
       "      <td>0</td>\n",
       "    </tr>\n",
       "    <tr>\n",
       "      <th>543</th>\n",
       "      <td>4.319441</td>\n",
       "      <td>186.056179</td>\n",
       "      <td>30565.578390</td>\n",
       "      <td>9.811168</td>\n",
       "      <td>276.833932</td>\n",
       "      <td>282.687402</td>\n",
       "      <td>13.448689</td>\n",
       "      <td>66.303555</td>\n",
       "      <td>3.241972</td>\n",
       "      <td>0</td>\n",
       "    </tr>\n",
       "    <tr>\n",
       "      <th>1209</th>\n",
       "      <td>7.828740</td>\n",
       "      <td>176.727511</td>\n",
       "      <td>33337.109650</td>\n",
       "      <td>5.438776</td>\n",
       "      <td>286.992631</td>\n",
       "      <td>290.118613</td>\n",
       "      <td>5.871941</td>\n",
       "      <td>75.714425</td>\n",
       "      <td>5.199447</td>\n",
       "      <td>1</td>\n",
       "    </tr>\n",
       "    <tr>\n",
       "      <th>863</th>\n",
       "      <td>7.685397</td>\n",
       "      <td>230.335708</td>\n",
       "      <td>7324.701425</td>\n",
       "      <td>7.991366</td>\n",
       "      <td>331.512533</td>\n",
       "      <td>492.850391</td>\n",
       "      <td>14.233952</td>\n",
       "      <td>74.068658</td>\n",
       "      <td>4.179187</td>\n",
       "      <td>0</td>\n",
       "    </tr>\n",
       "    <tr>\n",
       "      <th>1134</th>\n",
       "      <td>7.535700</td>\n",
       "      <td>221.792481</td>\n",
       "      <td>14829.745970</td>\n",
       "      <td>6.701159</td>\n",
       "      <td>366.412200</td>\n",
       "      <td>583.436487</td>\n",
       "      <td>17.731882</td>\n",
       "      <td>59.686076</td>\n",
       "      <td>4.208354</td>\n",
       "      <td>1</td>\n",
       "    </tr>\n",
       "  </tbody>\n",
       "</table>\n",
       "</div>"
      ],
      "text/plain": [
       "            ph    Hardness        Solids  Chloramines     Sulfate  \\\n",
       "105   8.490572  204.123648  22989.796390     8.270793  358.847115   \n",
       "543   4.319441  186.056179  30565.578390     9.811168  276.833932   \n",
       "1209  7.828740  176.727511  33337.109650     5.438776  286.992631   \n",
       "863   7.685397  230.335708   7324.701425     7.991366  331.512533   \n",
       "1134  7.535700  221.792481  14829.745970     6.701159  366.412200   \n",
       "\n",
       "      Conductivity  Organic_carbon  Trihalomethanes  Turbidity  Potability  \n",
       "105     435.000898       17.084246        62.421637   3.875557           0  \n",
       "543     282.687402       13.448689        66.303555   3.241972           0  \n",
       "1209    290.118613        5.871941        75.714425   5.199447           1  \n",
       "863     492.850391       14.233952        74.068658   4.179187           0  \n",
       "1134    583.436487       17.731882        59.686076   4.208354           1  "
      ]
     },
     "execution_count": 22,
     "metadata": {},
     "output_type": "execute_result"
    }
   ],
   "source": [
    "water.sample(5)"
   ]
  },
  {
   "cell_type": "markdown",
   "id": "cec47350",
   "metadata": {},
   "source": [
    "### Comparing the features with target variable as a hue"
   ]
  },
  {
   "cell_type": "code",
   "execution_count": 23,
   "id": "2954574b",
   "metadata": {},
   "outputs": [
    {
     "data": {
      "image/png": "[encoded data removed]",
      "text/plain": [
       "<Figure size 1080x864 with 9 Axes>"
      ]
     },
     "metadata": {
      "needs_background": "light"
     },
     "output_type": "display_data"
    }
   ],
   "source": [
    "plt.figure(figsize=(15, 12))\n",
    "\n",
    "plt.subplot(3,3,1)\n",
    "sns.histplot(water, x=\"ph\", hue=\"Potability\")\n",
    "\n",
    "plt.subplot(3,3,2)\n",
    "sns.histplot(water, x=\"Hardness\", hue=\"Potability\")\n",
    "\n",
    "plt.subplot(3,3,3)\n",
    "sns.histplot(water, x=\"Solids\", hue=\"Potability\")\n",
    "\n",
    "plt.subplot(3,3,4)\n",
    "sns.histplot(water, x=\"Chloramines\", hue=\"Potability\")\n",
    "\n",
    "plt.subplot(3,3,5)\n",
    "sns.histplot(water, x=\"Sulfate\", hue=\"Potability\")\n",
    "\n",
    "plt.subplot(3,3,6)\n",
    "sns.histplot(water, x=\"Conductivity\", hue=\"Potability\")\n",
    "\n",
    "plt.subplot(3,3,7)\n",
    "sns.histplot(water, x=\"Organic_carbon\", hue=\"Potability\")\n",
    "\n",
    "plt.subplot(3,3,8)\n",
    "sns.histplot(water, x=\"Trihalomethanes\", hue=\"Potability\")\n",
    "\n",
    "plt.subplot(3,3,9)\n",
    "sns.histplot(water, x=\"Turbidity\", hue=\"Potability\")\n",
    "\n",
    "plt.show()"
   ]
  },
  {
   "cell_type": "markdown",
   "id": "e33dc8d8",
   "metadata": {},
   "source": [
    "### 4.8 Multivariate analysis\n",
    "<a id='multivariate'></a>"
   ]
  },
  {
   "cell_type": "markdown",
   "id": "452234e9",
   "metadata": {},
   "source": [
    "#### Correlation matrix is a square matrix giving the covariance between each pair of elements of a given random vector."
   ]
  },
  {
   "cell_type": "code",
   "execution_count": 24,
   "id": "c4c20d6d",
   "metadata": {},
   "outputs": [
    {
     "data": {
      "text/html": [
       "<div>\n",
       "<style scoped>\n",
       "    .dataframe tbody tr th:only-of-type {\n",
       "        vertical-align: middle;\n",
       "    }\n",
       "\n",
       "    .dataframe tbody tr th {\n",
       "        vertical-align: top;\n",
       "    }\n",
       "\n",
       "    .dataframe thead th {\n",
       "        text-align: right;\n",
       "    }\n",
       "</style>\n",
       "<table border=\"1\" class=\"dataframe\">\n",
       "  <thead>\n",
       "    <tr style=\"text-align: right;\">\n",
       "      <th></th>\n",
       "      <th>ph</th>\n",
       "      <th>Hardness</th>\n",
       "      <th>Solids</th>\n",
       "      <th>Chloramines</th>\n",
       "      <th>Sulfate</th>\n",
       "      <th>Conductivity</th>\n",
       "      <th>Organic_carbon</th>\n",
       "      <th>Trihalomethanes</th>\n",
       "      <th>Turbidity</th>\n",
       "      <th>Potability</th>\n",
       "    </tr>\n",
       "  </thead>\n",
       "  <tbody>\n",
       "    <tr>\n",
       "      <th>ph</th>\n",
       "      <td>1.000000</td>\n",
       "      <td>0.097792</td>\n",
       "      <td>-0.076046</td>\n",
       "      <td>-0.036547</td>\n",
       "      <td>0.014785</td>\n",
       "      <td>0.017619</td>\n",
       "      <td>0.040496</td>\n",
       "      <td>0.003009</td>\n",
       "      <td>-0.036211</td>\n",
       "      <td>-0.003848</td>\n",
       "    </tr>\n",
       "    <tr>\n",
       "      <th>Hardness</th>\n",
       "      <td>0.097792</td>\n",
       "      <td>1.000000</td>\n",
       "      <td>-0.044991</td>\n",
       "      <td>-0.008571</td>\n",
       "      <td>-0.090677</td>\n",
       "      <td>-0.028899</td>\n",
       "      <td>0.001916</td>\n",
       "      <td>-0.016446</td>\n",
       "      <td>-0.021104</td>\n",
       "      <td>-0.012704</td>\n",
       "    </tr>\n",
       "    <tr>\n",
       "      <th>Solids</th>\n",
       "      <td>-0.076046</td>\n",
       "      <td>-0.044991</td>\n",
       "      <td>1.000000</td>\n",
       "      <td>-0.055797</td>\n",
       "      <td>-0.135929</td>\n",
       "      <td>0.006705</td>\n",
       "      <td>0.016834</td>\n",
       "      <td>-0.017745</td>\n",
       "      <td>0.026166</td>\n",
       "      <td>0.025051</td>\n",
       "    </tr>\n",
       "    <tr>\n",
       "      <th>Chloramines</th>\n",
       "      <td>-0.036547</td>\n",
       "      <td>-0.008571</td>\n",
       "      <td>-0.055797</td>\n",
       "      <td>1.000000</td>\n",
       "      <td>0.046348</td>\n",
       "      <td>-0.018787</td>\n",
       "      <td>-0.006775</td>\n",
       "      <td>0.010410</td>\n",
       "      <td>-0.013485</td>\n",
       "      <td>0.021052</td>\n",
       "    </tr>\n",
       "    <tr>\n",
       "      <th>Sulfate</th>\n",
       "      <td>0.014785</td>\n",
       "      <td>-0.090677</td>\n",
       "      <td>-0.135929</td>\n",
       "      <td>0.046348</td>\n",
       "      <td>1.000000</td>\n",
       "      <td>-0.014027</td>\n",
       "      <td>0.023661</td>\n",
       "      <td>-0.025797</td>\n",
       "      <td>-0.009523</td>\n",
       "      <td>-0.026957</td>\n",
       "    </tr>\n",
       "    <tr>\n",
       "      <th>Conductivity</th>\n",
       "      <td>0.017619</td>\n",
       "      <td>-0.028899</td>\n",
       "      <td>0.006705</td>\n",
       "      <td>-0.018787</td>\n",
       "      <td>-0.014027</td>\n",
       "      <td>1.000000</td>\n",
       "      <td>0.015019</td>\n",
       "      <td>-0.000583</td>\n",
       "      <td>0.007564</td>\n",
       "      <td>-0.008881</td>\n",
       "    </tr>\n",
       "    <tr>\n",
       "      <th>Organic_carbon</th>\n",
       "      <td>0.040496</td>\n",
       "      <td>0.001916</td>\n",
       "      <td>0.016834</td>\n",
       "      <td>-0.006775</td>\n",
       "      <td>0.023661</td>\n",
       "      <td>0.015019</td>\n",
       "      <td>1.000000</td>\n",
       "      <td>-0.013525</td>\n",
       "      <td>-0.025371</td>\n",
       "      <td>-0.027250</td>\n",
       "    </tr>\n",
       "    <tr>\n",
       "      <th>Trihalomethanes</th>\n",
       "      <td>0.003009</td>\n",
       "      <td>-0.016446</td>\n",
       "      <td>-0.017745</td>\n",
       "      <td>0.010410</td>\n",
       "      <td>-0.025797</td>\n",
       "      <td>-0.000583</td>\n",
       "      <td>-0.013525</td>\n",
       "      <td>1.000000</td>\n",
       "      <td>-0.021540</td>\n",
       "      <td>0.007305</td>\n",
       "    </tr>\n",
       "    <tr>\n",
       "      <th>Turbidity</th>\n",
       "      <td>-0.036211</td>\n",
       "      <td>-0.021104</td>\n",
       "      <td>0.026166</td>\n",
       "      <td>-0.013485</td>\n",
       "      <td>-0.009523</td>\n",
       "      <td>0.007564</td>\n",
       "      <td>-0.025371</td>\n",
       "      <td>-0.021540</td>\n",
       "      <td>1.000000</td>\n",
       "      <td>0.001581</td>\n",
       "    </tr>\n",
       "    <tr>\n",
       "      <th>Potability</th>\n",
       "      <td>-0.003848</td>\n",
       "      <td>-0.012704</td>\n",
       "      <td>0.025051</td>\n",
       "      <td>0.021052</td>\n",
       "      <td>-0.026957</td>\n",
       "      <td>-0.008881</td>\n",
       "      <td>-0.027250</td>\n",
       "      <td>0.007305</td>\n",
       "      <td>0.001581</td>\n",
       "      <td>1.000000</td>\n",
       "    </tr>\n",
       "  </tbody>\n",
       "</table>\n",
       "</div>"
      ],
      "text/plain": [
       "                       ph  Hardness    Solids  Chloramines   Sulfate  \\\n",
       "ph               1.000000  0.097792 -0.076046    -0.036547  0.014785   \n",
       "Hardness         0.097792  1.000000 -0.044991    -0.008571 -0.090677   \n",
       "Solids          -0.076046 -0.044991  1.000000    -0.055797 -0.135929   \n",
       "Chloramines     -0.036547 -0.008571 -0.055797     1.000000  0.046348   \n",
       "Sulfate          0.014785 -0.090677 -0.135929     0.046348  1.000000   \n",
       "Conductivity     0.017619 -0.028899  0.006705    -0.018787 -0.014027   \n",
       "Organic_carbon   0.040496  0.001916  0.016834    -0.006775  0.023661   \n",
       "Trihalomethanes  0.003009 -0.016446 -0.017745     0.010410 -0.025797   \n",
       "Turbidity       -0.036211 -0.021104  0.026166    -0.013485 -0.009523   \n",
       "Potability      -0.003848 -0.012704  0.025051     0.021052 -0.026957   \n",
       "\n",
       "                 Conductivity  Organic_carbon  Trihalomethanes  Turbidity  \\\n",
       "ph                   0.017619        0.040496         0.003009  -0.036211   \n",
       "Hardness            -0.028899        0.001916        -0.016446  -0.021104   \n",
       "Solids               0.006705        0.016834        -0.017745   0.026166   \n",
       "Chloramines         -0.018787       -0.006775         0.010410  -0.013485   \n",
       "Sulfate             -0.014027        0.023661        -0.025797  -0.009523   \n",
       "Conductivity         1.000000        0.015019        -0.000583   0.007564   \n",
       "Organic_carbon       0.015019        1.000000        -0.013525  -0.025371   \n",
       "Trihalomethanes     -0.000583       -0.013525         1.000000  -0.021540   \n",
       "Turbidity            0.007564       -0.025371        -0.021540   1.000000   \n",
       "Potability          -0.008881       -0.027250         0.007305   0.001581   \n",
       "\n",
       "                 Potability  \n",
       "ph                -0.003848  \n",
       "Hardness          -0.012704  \n",
       "Solids             0.025051  \n",
       "Chloramines        0.021052  \n",
       "Sulfate           -0.026957  \n",
       "Conductivity      -0.008881  \n",
       "Organic_carbon    -0.027250  \n",
       "Trihalomethanes    0.007305  \n",
       "Turbidity          0.001581  \n",
       "Potability         1.000000  "
      ]
     },
     "execution_count": 24,
     "metadata": {},
     "output_type": "execute_result"
    }
   ],
   "source": [
    "corr = water.corr()\n",
    "corr"
   ]
  },
  {
   "cell_type": "markdown",
   "id": "3339ac18",
   "metadata": {},
   "source": [
    "#### 4.8.1 Correlation Matrix\n",
    "<a id='corr_mat'></a>"
   ]
  },
  {
   "cell_type": "code",
   "execution_count": 25,
   "id": "37ed21e8",
   "metadata": {},
   "outputs": [
    {
     "data": {
      "text/plain": [
       "<AxesSubplot:>"
      ]
     },
     "execution_count": 25,
     "metadata": {},
     "output_type": "execute_result"
    },
    {
     "data": {
      "image/png": "[encoded data removed]",
      "text/plain": [
       "<Figure size 1296x1296 with 2 Axes>"
      ]
     },
     "metadata": {
      "needs_background": "light"
     },
     "output_type": "display_data"
    }
   ],
   "source": [
    "fig,ax = plt.subplots(figsize = (18,18))\n",
    "sns.heatmap(corr,annot=True,linewidths=0.5,fmt='.1f',ax=ax,cmap = 'YlGnBu')"
   ]
  },
  {
   "cell_type": "markdown",
   "id": "e7e6d5cd",
   "metadata": {},
   "source": [
    "As we can see there are no features correlating to each other, no need of feature removal here"
   ]
  },
  {
   "cell_type": "code",
   "execution_count": 26,
   "id": "29425d44",
   "metadata": {},
   "outputs": [
    {
     "data": {
      "text/plain": [
       "0    1998\n",
       "1    1278\n",
       "Name: Potability, dtype: int64"
      ]
     },
     "execution_count": 26,
     "metadata": {},
     "output_type": "execute_result"
    }
   ],
   "source": [
    "water['Potability'].value_counts()"
   ]
  },
  {
   "cell_type": "markdown",
   "id": "40982dcf",
   "metadata": {},
   "source": [
    "###### Since the the date is unbalanced we are using SMOTE() method to balance it"
   ]
  },
  {
   "cell_type": "markdown",
   "id": "ec7ce983",
   "metadata": {},
   "source": [
    "### 4.9 Balancing data using SMOTE()\n",
    "<a id='bal_data'></a>"
   ]
  },
  {
   "cell_type": "markdown",
   "id": "7c3fbe3a",
   "metadata": {},
   "source": [
    "#### SMOTE (Synthetic Minority Over-sampling Technique) is an oversampling technique and creates new minority class synthetic samples.\n",
    "#### Creating a Training dataset with 80% of the original dataset and testing dataset with remaining 20% of original dataset."
   ]
  },
  {
   "cell_type": "markdown",
   "id": "7021c4d4",
   "metadata": {},
   "source": [
    "Synthetic Minority Oversampling Technique (SMOTE) is a statistical technique for increasing the number of cases in your dataset in a balanced way."
   ]
  },
  {
   "cell_type": "code",
   "execution_count": 27,
   "id": "f6b5611a",
   "metadata": {},
   "outputs": [],
   "source": [
    "#handling imbalance in data and Scaling\n",
    "from imblearn.over_sampling import SMOTE\n",
    "samp = SMOTE()\n",
    "x=water.drop(['Potability'], axis=1)\n",
    "y=water['Potability']\n",
    "from sklearn.model_selection import train_test_split\n",
    "x_train,x_test, y_train, y_test = train_test_split(x, y, test_size=0.2,random_state=1)\n",
    "x_train, y_train =samp.fit_resample(x_train,y_train)"
   ]
  },
  {
   "cell_type": "markdown",
   "id": "985cc9ae",
   "metadata": {},
   "source": [
    "### 4.10 Feature Scaling\n",
    "<a id='scale'></a>"
   ]
  },
  {
   "cell_type": "markdown",
   "id": "d12c84f3",
   "metadata": {},
   "source": [
    "#### Feature Scaling is a technique to standardize the independent features present in the data in a fixed range."
   ]
  },
  {
   "cell_type": "code",
   "execution_count": 28,
   "id": "806a1c74",
   "metadata": {},
   "outputs": [],
   "source": [
    "from sklearn.preprocessing import StandardScaler\n",
    "\n",
    "scale = StandardScaler()\n",
    "x_train=scale.fit_transform(x_train)\n",
    "x_test=scale.transform(x_test)"
   ]
  },
  {
   "cell_type": "code",
   "execution_count": 29,
   "id": "190c70a8",
   "metadata": {},
   "outputs": [
    {
     "data": {
      "text/plain": [
       "array([[ 1.30355432,  0.10819312, -0.16478206, ...,  1.70207254,\n",
       "        -0.15485168, -1.01593916],\n",
       "       [ 0.58353419, -0.88500741, -1.8064159 , ...,  2.83264489,\n",
       "         0.47555942,  0.41419771],\n",
       "       [-1.34605567,  0.08509992, -0.57887324, ..., -0.58576914,\n",
       "        -0.01057378,  1.17320353],\n",
       "       ...,\n",
       "       [ 0.33548671, -0.74161709, -0.87161066, ..., -1.78226685,\n",
       "         0.48014827,  0.233348  ],\n",
       "       [ 0.30479921,  0.41512368, -1.2082473 , ..., -1.10032743,\n",
       "         1.12850315,  0.78336343],\n",
       "       [-0.36105081, -1.70946586,  0.42090116, ..., -1.56676038,\n",
       "         0.02472868,  0.95708234]])"
      ]
     },
     "execution_count": 29,
     "metadata": {},
     "output_type": "execute_result"
    }
   ],
   "source": [
    "x_train"
   ]
  },
  {
   "cell_type": "code",
   "execution_count": 30,
   "id": "39915c88",
   "metadata": {},
   "outputs": [
    {
     "data": {
      "text/plain": [
       "array([[-0.71337679, -1.22167602, -0.82273819, ..., -0.65071723,\n",
       "         0.16407586, -0.65890654],\n",
       "       [-0.00609439,  1.29177867,  0.66156873, ...,  0.78418073,\n",
       "        -1.00070472,  0.4329316 ],\n",
       "       [ 1.4938896 , -0.96865529, -0.08001719, ..., -0.76627085,\n",
       "        -0.28083911, -0.8816049 ],\n",
       "       ...,\n",
       "       [-0.76649849,  2.78296889, -0.04365187, ..., -0.81982965,\n",
       "         1.68544234,  1.45675674],\n",
       "       [-0.00609439,  0.96827044, -0.68771512, ...,  0.29043029,\n",
       "        -1.20335183,  0.26338636],\n",
       "       [ 0.35151305,  0.12060783, -1.23666978, ...,  1.15637123,\n",
       "        -0.24214498, -0.34968457]])"
      ]
     },
     "execution_count": 30,
     "metadata": {},
     "output_type": "execute_result"
    }
   ],
   "source": [
    "x_test"
   ]
  },
  {
   "cell_type": "code",
   "execution_count": 31,
   "id": "35cc27b4",
   "metadata": {},
   "outputs": [
    {
     "name": "stdout",
     "output_type": "stream",
     "text": [
      "x_train (3250, 9)\n",
      "x_test (656, 9)\n",
      "y_train (3250,)\n",
      "y_test (656,)\n"
     ]
    }
   ],
   "source": [
    "print(\"x_train\",x_train.shape)\n",
    "print(\"x_test\",x_test.shape)\n",
    "print(\"y_train\",y_train.shape)\n",
    "print(\"y_test\",y_test.shape)"
   ]
  },
  {
   "cell_type": "markdown",
   "id": "8a539c8e",
   "metadata": {},
   "source": [
    "# 5. MODEL BUILDING\n",
    "<a id='model'></a>"
   ]
  },
  {
   "cell_type": "code",
   "execution_count": 32,
   "id": "6e061439",
   "metadata": {},
   "outputs": [],
   "source": [
    "from sklearn.linear_model import LogisticRegression\n",
    "from sklearn.naive_bayes import GaussianNB\n",
    "from sklearn.multiclass import OneVsRestClassifier\n",
    "from sklearn.neighbors import KNeighborsClassifier\n",
    "from sklearn import svm\n",
    "from sklearn.tree import DecisionTreeClassifier\n",
    "from sklearn.ensemble import RandomForestClassifier\n",
    "\n",
    "from sklearn.ensemble import AdaBoostClassifier\n",
    "from xgboost.sklearn import XGBClassifier\n",
    "from sklearn.ensemble import GradientBoostingClassifier\n",
    "from sklearn.ensemble import BaggingClassifier\n",
    "from sklearn import tree\n",
    "\n",
    "from sklearn.metrics import confusion_matrix\n",
    "from sklearn.metrics import classification_report"
   ]
  },
  {
   "cell_type": "markdown",
   "id": "4481b097",
   "metadata": {},
   "source": [
    "### 5.1 Logistic regression\n",
    "<a id='log_reg'></a>\n"
   ]
  },
  {
   "cell_type": "markdown",
   "id": "a0fc5638",
   "metadata": {},
   "source": [
    "#### Logistic regression is a statistical method for predicting binary classes. The outcome or target variable is dichotomous in nature. Logistic regression describes and estimates the relationship between one dependent binary variable and independent variables."
   ]
  },
  {
   "cell_type": "code",
   "execution_count": 33,
   "id": "d698eac8",
   "metadata": {},
   "outputs": [],
   "source": [
    "from sklearn.linear_model import LogisticRegression\n",
    "\n",
    "log_reg = LogisticRegression()\n",
    "\n",
    "#FIT THE MODEL WITH DATA\n",
    "log_reg.fit(x_train,y_train)\n",
    "y_pred_log_reg= log_reg.predict(x_test)"
   ]
  },
  {
   "cell_type": "code",
   "execution_count": 34,
   "id": "94edff47",
   "metadata": {},
   "outputs": [
    {
     "data": {
      "image/png": "[encoded data removed]",
      "text/plain": [
       "<Figure size 576x360 with 1 Axes>"
      ]
     },
     "metadata": {
      "needs_background": "light"
     },
     "output_type": "display_data"
    }
   ],
   "source": [
    "from sklearn.metrics import confusion_matrix\n",
    "#compute the confusion matrix\n",
    "cm = confusion_matrix(y_test, y_pred_log_reg)\n",
    "#label tje confusion matrix\n",
    "conf_matrix = pd.DataFrame(data=cm, columns=[\"Predicted:0\", \"Predicted:1\"], index=[\"Actual:0\", \"Actual:1\"])\n",
    "#set size of the plot\n",
    "plt.figure(figsize=(8,5))\n",
    "\n",
    "sns.heatmap(conf_matrix, annot=True, fmt= \"d\", cmap=\"YlGnBu\", cbar=False)\n",
    "\n",
    "\n",
    "# plot a heatmap\n",
    "# cmap: colour code used for plotting\n",
    "# annot: prints the correlation values in the chart\n",
    "# annot_kws: sets the font size of the annotation\n",
    "# cbar=False: Whether to draw a colorbar\n",
    "# fmt: string formatting code to use when adding annotations\n",
    "\n",
    "plt.show()"
   ]
  },
  {
   "cell_type": "code",
   "execution_count": 35,
   "id": "cf838777",
   "metadata": {},
   "outputs": [
    {
     "name": "stdout",
     "output_type": "stream",
     "text": [
      "              precision    recall  f1-score   support\n",
      "\n",
      "           0       0.57      0.53      0.55       373\n",
      "           1       0.43      0.48      0.45       283\n",
      "\n",
      "    accuracy                           0.51       656\n",
      "   macro avg       0.50      0.50      0.50       656\n",
      "weighted avg       0.51      0.51      0.51       656\n",
      "\n"
     ]
    }
   ],
   "source": [
    "from sklearn.metrics import classification_report\n",
    "result = classification_report(y_test, y_pred_log_reg)\n",
    "print(result)"
   ]
  },
  {
   "cell_type": "markdown",
   "id": "3a107221",
   "metadata": {},
   "source": [
    "#### AUC or AUROC is area under ROC curve. The value of AUC tells us the model performance. Higher the AUC "
   ]
  },
  {
   "cell_type": "code",
   "execution_count": 36,
   "id": "e0ed7de0",
   "metadata": {},
   "outputs": [
    {
     "data": {
      "image/png": "[encoded data removed]",
      "text/plain": [
       "<Figure size 576x360 with 1 Axes>"
      ]
     },
     "metadata": {
      "needs_background": "light"
     },
     "output_type": "display_data"
    }
   ],
   "source": [
    "from sklearn.metrics import roc_curve\n",
    "from sklearn.metrics import roc_auc_score\n",
    "\n",
    "plt.rcParams['figure.figsize']=(8,5)\n",
    "\n",
    "fpr,tpr,th = roc_curve(y_test,y_pred_log_reg)\n",
    "# plor ROC curve\n",
    "plt.plot(fpr,tpr)\n",
    "\n",
    "plt.xlim([0.0,1.0])\n",
    "plt.ylim([0.0,1.0])\n",
    "\n",
    "plt.plot([0,1],[0,1],'r--')  # r-- : Red dashed line\n",
    "\n",
    "#AUC or AUROC is area under ROC curve. The value of AUC tells us the model performance. Higher the AUC \n",
    "# better the model performance\n",
    "#to add AOC score\n",
    "plt.text(x=0.1,y=0.5,s=('AUC Score',round(roc_auc_score(y_test,y_pred_log_reg),6)))\n",
    "\n",
    "plt.xlabel('False positive rate(1-Specificity)')\n",
    "plt.ylabel('True positive rate(Specificity)')\n",
    "\n",
    "plt.grid(True)"
   ]
  },
  {
   "cell_type": "code",
   "execution_count": 37,
   "id": "9fd3472b",
   "metadata": {},
   "outputs": [
    {
     "data": {
      "text/html": [
       "<div>\n",
       "<style scoped>\n",
       "    .dataframe tbody tr th:only-of-type {\n",
       "        vertical-align: middle;\n",
       "    }\n",
       "\n",
       "    .dataframe tbody tr th {\n",
       "        vertical-align: top;\n",
       "    }\n",
       "\n",
       "    .dataframe thead th {\n",
       "        text-align: right;\n",
       "    }\n",
       "</style>\n",
       "<table border=\"1\" class=\"dataframe\">\n",
       "  <thead>\n",
       "    <tr style=\"text-align: right;\">\n",
       "      <th></th>\n",
       "      <th>Model</th>\n",
       "      <th>AUC Score</th>\n",
       "      <th>Precision Score</th>\n",
       "      <th>Recall Score</th>\n",
       "      <th>Accuracy Score</th>\n",
       "      <th>f1-score</th>\n",
       "    </tr>\n",
       "  </thead>\n",
       "  <tbody>\n",
       "    <tr>\n",
       "      <th>0</th>\n",
       "      <td>logistic_regression</td>\n",
       "      <td>0.502591</td>\n",
       "      <td>0.434084</td>\n",
       "      <td>0.477032</td>\n",
       "      <td>0.506098</td>\n",
       "      <td>0.454545</td>\n",
       "    </tr>\n",
       "  </tbody>\n",
       "</table>\n",
       "</div>"
      ],
      "text/plain": [
       "                  Model  AUC Score  Precision Score  Recall Score  \\\n",
       "0  logistic_regression    0.502591         0.434084      0.477032   \n",
       "\n",
       "   Accuracy Score  f1-score  \n",
       "0        0.506098  0.454545  "
      ]
     },
     "execution_count": 37,
     "metadata": {},
     "output_type": "execute_result"
    }
   ],
   "source": [
    "import sklearn.metrics as metrics\n",
    "#compiling the required information\n",
    "#create a list of column names\n",
    "cols = [\"Model\", \"AUC Score\", \"Precision Score\", \"Recall Score\", \"Accuracy Score\", \"f1-score\"]\n",
    "\n",
    "#creating the required information\n",
    "result_tabulation = pd.DataFrame(columns=cols)\n",
    "\n",
    "\n",
    "metrics = pd.Series({\"Model\" : \"logistic_regression \", \n",
    "                                    \"AUC Score\" : metrics.roc_auc_score(y_test, y_pred_log_reg),\n",
    "                                    \"Precision Score\" : metrics.precision_score(y_test, y_pred_log_reg),\n",
    "                                    \"Recall Score\" : metrics.recall_score(y_test, y_pred_log_reg),\n",
    "                                    \"Accuracy Score\" : metrics.accuracy_score(y_test, y_pred_log_reg),\n",
    "                                    \"f1-score\" : metrics.f1_score(y_test, y_pred_log_reg)})\n",
    "#appending our result table\n",
    "result_tabulation = result_tabulation.append(metrics , ignore_index=True)\n",
    "result_tabulation"
   ]
  },
  {
   "cell_type": "markdown",
   "id": "87ee584d",
   "metadata": {},
   "source": [
    "### 5.2 Naive Bayes\n",
    "<a id='naive_bayes'></a>\n"
   ]
  },
  {
   "cell_type": "markdown",
   "id": "1dcd34dc",
   "metadata": {},
   "source": [
    "#### Naive Bayes classifiers are a family of simple \"probabilistic classifiers\" based on applying Bayes' theorem with strong (naive) independence assumptions between the features (see Bayes classifier). They are among the simplest Bayesian network models"
   ]
  },
  {
   "cell_type": "code",
   "execution_count": 38,
   "id": "4b4a0dcc",
   "metadata": {},
   "outputs": [],
   "source": [
    "from sklearn.naive_bayes import GaussianNB\n",
    "from sklearn.multiclass import OneVsRestClassifier\n",
    "\n",
    "gnb = GaussianNB()\n",
    "GNB = OneVsRestClassifier(gnb)\n",
    "GNB.fit(x_train,y_train)\n",
    "y_pred_GNB = GNB.predict(x_test)"
   ]
  },
  {
   "cell_type": "code",
   "execution_count": 39,
   "id": "efefc9d4",
   "metadata": {},
   "outputs": [
    {
     "data": {
      "image/png": "[encoded data removed]",
      "text/plain": [
       "<Figure size 576x360 with 1 Axes>"
      ]
     },
     "metadata": {
      "needs_background": "light"
     },
     "output_type": "display_data"
    }
   ],
   "source": [
    "from sklearn.metrics import confusion_matrix\n",
    "#compute the confusion matrix\n",
    "cm = confusion_matrix(y_test,y_pred_GNB)\n",
    "\n",
    "conf_matrix = pd.DataFrame(data=cm,columns=['Predicted:0','Predicted:1'],\n",
    "                          index=['Actual:0','Actual:1'])\n",
    "plt.figure(figsize=(8,5))\n",
    "sns.heatmap(conf_matrix,annot=True,fmt='d',cmap='YlGnBu',cbar=False)\n",
    "plt.show()\n",
    "\n"
   ]
  },
  {
   "cell_type": "code",
   "execution_count": 40,
   "id": "9d89fdbe",
   "metadata": {},
   "outputs": [
    {
     "name": "stdout",
     "output_type": "stream",
     "text": [
      "              precision    recall  f1-score   support\n",
      "\n",
      "           0       0.60      0.59      0.60       373\n",
      "           1       0.47      0.48      0.47       283\n",
      "\n",
      "    accuracy                           0.54       656\n",
      "   macro avg       0.53      0.53      0.53       656\n",
      "weighted avg       0.54      0.54      0.54       656\n",
      "\n"
     ]
    }
   ],
   "source": [
    "from sklearn.metrics import classification_report\n",
    "result = classification_report(y_test,y_pred_GNB)\n",
    "print(result)"
   ]
  },
  {
   "cell_type": "code",
   "execution_count": 41,
   "id": "a65ba9f9",
   "metadata": {},
   "outputs": [
    {
     "data": {
      "image/png": "[encoded data removed]",
      "text/plain": [
       "<Figure size 576x360 with 1 Axes>"
      ]
     },
     "metadata": {
      "needs_background": "light"
     },
     "output_type": "display_data"
    }
   ],
   "source": [
    "from sklearn.metrics import roc_curve\n",
    "from sklearn.metrics import roc_auc_score\n",
    "\n",
    "plt.rcParams['figure.figsize']=(8,5)\n",
    "\n",
    "fpr,tpr,th = roc_curve(y_test,y_pred_GNB)\n",
    "# plor ROC curve\n",
    "plt.plot(fpr,tpr)\n",
    "\n",
    "plt.xlim([0.0,1.0])\n",
    "plt.ylim([0.0,1.0])\n",
    "\n",
    "plt.plot([0,1],[0,1],'r--')  # r-- : Red dashed line\n",
    "\n",
    "#AUC or AUROC is area under ROC curve. The value of AUC tells us the model performance. Higher the AUC \n",
    "# better the model performance\n",
    "#to add AOC score\n",
    "plt.text(x=0.1,y=0.5,s=('AUC Score',round(roc_auc_score(y_test,y_pred_GNB),6)))\n",
    "\n",
    "plt.xlabel('False positive rate(1-Specificity)')\n",
    "plt.ylabel('True positive rate(Specificity)')\n",
    "\n",
    "plt.grid(True)"
   ]
  },
  {
   "cell_type": "code",
   "execution_count": 42,
   "id": "1dd7ec81",
   "metadata": {},
   "outputs": [
    {
     "data": {
      "text/html": [
       "<div>\n",
       "<style scoped>\n",
       "    .dataframe tbody tr th:only-of-type {\n",
       "        vertical-align: middle;\n",
       "    }\n",
       "\n",
       "    .dataframe tbody tr th {\n",
       "        vertical-align: top;\n",
       "    }\n",
       "\n",
       "    .dataframe thead th {\n",
       "        text-align: right;\n",
       "    }\n",
       "</style>\n",
       "<table border=\"1\" class=\"dataframe\">\n",
       "  <thead>\n",
       "    <tr style=\"text-align: right;\">\n",
       "      <th></th>\n",
       "      <th>Model</th>\n",
       "      <th>AUC Score</th>\n",
       "      <th>Precision Score</th>\n",
       "      <th>Recall Score</th>\n",
       "      <th>Accuracy Score</th>\n",
       "      <th>f1-score</th>\n",
       "    </tr>\n",
       "  </thead>\n",
       "  <tbody>\n",
       "    <tr>\n",
       "      <th>0</th>\n",
       "      <td>logistic_regression</td>\n",
       "      <td>0.502591</td>\n",
       "      <td>0.434084</td>\n",
       "      <td>0.477032</td>\n",
       "      <td>0.506098</td>\n",
       "      <td>0.454545</td>\n",
       "    </tr>\n",
       "    <tr>\n",
       "      <th>1</th>\n",
       "      <td>Naive Bayes</td>\n",
       "      <td>0.534763</td>\n",
       "      <td>0.470383</td>\n",
       "      <td>0.477032</td>\n",
       "      <td>0.542683</td>\n",
       "      <td>0.473684</td>\n",
       "    </tr>\n",
       "  </tbody>\n",
       "</table>\n",
       "</div>"
      ],
      "text/plain": [
       "                  Model  AUC Score  Precision Score  Recall Score  \\\n",
       "0  logistic_regression    0.502591         0.434084      0.477032   \n",
       "1          Naive Bayes    0.534763         0.470383      0.477032   \n",
       "\n",
       "   Accuracy Score  f1-score  \n",
       "0        0.506098  0.454545  \n",
       "1        0.542683  0.473684  "
      ]
     },
     "execution_count": 42,
     "metadata": {},
     "output_type": "execute_result"
    }
   ],
   "source": [
    "import sklearn.metrics as metrics\n",
    "#compiling the required information\n",
    "metrics = pd.Series({\"Model\" : \"Naive Bayes \", \n",
    "                                    \"AUC Score\" : metrics.roc_auc_score(y_test, y_pred_GNB),\n",
    "                                    \"Precision Score\" : metrics.precision_score(y_test, y_pred_GNB),\n",
    "                                    \"Recall Score\" : metrics.recall_score(y_test, y_pred_GNB),\n",
    "                                    \"Accuracy Score\" : metrics.accuracy_score(y_test, y_pred_GNB),\n",
    "                                    \"f1-score\" : metrics.f1_score(y_test, y_pred_GNB)})\n",
    "#appending our result table\n",
    "result_tabulation = result_tabulation.append(metrics, ignore_index=True)\n",
    "\n",
    "#view the result table\n",
    "result_tabulation"
   ]
  },
  {
   "cell_type": "markdown",
   "id": "807af6aa",
   "metadata": {},
   "source": [
    "### 5.3 KNN\n",
    "<a id='knn'></a>\n"
   ]
  },
  {
   "cell_type": "markdown",
   "id": "3ce48131",
   "metadata": {},
   "source": [
    "#### K-Nearest Neighbours algorithm (k-NN) is a non-parametric supervised learning. KNN works by finding the distances between a query and all the examples in the data, selecting the specified number examples (K) closest to the query, then votes for the most frequent label"
   ]
  },
  {
   "cell_type": "code",
   "execution_count": 43,
   "id": "ea8aac0a",
   "metadata": {},
   "outputs": [],
   "source": [
    "from sklearn.neighbors import KNeighborsClassifier\n",
    "\n",
    "knn = KNeighborsClassifier(n_neighbors=5,metric='euclidean')\n",
    "knn.fit(x_train,y_train)\n",
    "\n",
    "y_pred_knn = knn.predict(x_test)"
   ]
  },
  {
   "cell_type": "code",
   "execution_count": 44,
   "id": "0741d4cb",
   "metadata": {},
   "outputs": [
    {
     "data": {
      "image/png": "[encoded data removed]",
      "text/plain": [
       "<Figure size 576x360 with 1 Axes>"
      ]
     },
     "metadata": {
      "needs_background": "light"
     },
     "output_type": "display_data"
    }
   ],
   "source": [
    "from sklearn.metrics import confusion_matrix\n",
    "#compute the confusion matrix\n",
    "cm = confusion_matrix(y_test,y_pred_knn)\n",
    "\n",
    "conf_matrix = pd.DataFrame(data=cm,columns=['Predicted:0','Predicted:1'],\n",
    "                          index=['Actual:0','Actual:1'])\n",
    "plt.figure(figsize=(8,5))\n",
    "\n",
    "sns.heatmap(conf_matrix,annot=True,fmt='d',cmap='YlGnBu',cbar=False)\n",
    "plt.show()\n",
    "\n"
   ]
  },
  {
   "cell_type": "code",
   "execution_count": 45,
   "id": "022911aa",
   "metadata": {},
   "outputs": [
    {
     "name": "stdout",
     "output_type": "stream",
     "text": [
      "              precision    recall  f1-score   support\n",
      "\n",
      "           0       0.64      0.55      0.60       373\n",
      "           1       0.50      0.59      0.54       283\n",
      "\n",
      "    accuracy                           0.57       656\n",
      "   macro avg       0.57      0.57      0.57       656\n",
      "weighted avg       0.58      0.57      0.57       656\n",
      "\n"
     ]
    }
   ],
   "source": [
    "from sklearn.metrics import classification_report\n",
    "\n",
    "result = classification_report(y_test, y_pred_knn)\n",
    "print(result)"
   ]
  },
  {
   "cell_type": "code",
   "execution_count": 46,
   "id": "92f13ca3",
   "metadata": {},
   "outputs": [
    {
     "data": {
      "image/png": "[encoded data removed]",
      "text/plain": [
       "<Figure size 576x360 with 1 Axes>"
      ]
     },
     "metadata": {
      "needs_background": "light"
     },
     "output_type": "display_data"
    }
   ],
   "source": [
    "from sklearn.metrics import roc_curve\n",
    "from sklearn.metrics import roc_auc_score\n",
    "\n",
    "plt.rcParams['figure.figsize']=(8,5)\n",
    "\n",
    "fpr,tpr,th = roc_curve(y_test,y_pred_knn)\n",
    "# plor ROC curve\n",
    "plt.plot(fpr,tpr)\n",
    "\n",
    "plt.xlim([0.0,1.0])\n",
    "plt.ylim([0.0,1.0])\n",
    "\n",
    "plt.plot([0,1],[0,1],'r--')  # r-- : Red dashed line\n",
    "\n",
    "#AUC or AUROC is area under ROC curve. The value of AUC tells us the model performance. Higher the AUC \n",
    "# better the model performance\n",
    "#to add AOC score\n",
    "plt.text(x=0.1,y=0.65,s=('AUC Score',round(roc_auc_score(y_test,y_pred_knn),6)))\n",
    "\n",
    "plt.xlabel('False positive rate(1-Specificity)')\n",
    "plt.ylabel('True positive rate(Specificity)')\n",
    "\n",
    "plt.grid(True)"
   ]
  },
  {
   "cell_type": "code",
   "execution_count": 47,
   "id": "8566c46e",
   "metadata": {},
   "outputs": [
    {
     "data": {
      "text/html": [
       "<div>\n",
       "<style scoped>\n",
       "    .dataframe tbody tr th:only-of-type {\n",
       "        vertical-align: middle;\n",
       "    }\n",
       "\n",
       "    .dataframe tbody tr th {\n",
       "        vertical-align: top;\n",
       "    }\n",
       "\n",
       "    .dataframe thead th {\n",
       "        text-align: right;\n",
       "    }\n",
       "</style>\n",
       "<table border=\"1\" class=\"dataframe\">\n",
       "  <thead>\n",
       "    <tr style=\"text-align: right;\">\n",
       "      <th></th>\n",
       "      <th>Model</th>\n",
       "      <th>AUC Score</th>\n",
       "      <th>Precision Score</th>\n",
       "      <th>Recall Score</th>\n",
       "      <th>Accuracy Score</th>\n",
       "      <th>f1-score</th>\n",
       "    </tr>\n",
       "  </thead>\n",
       "  <tbody>\n",
       "    <tr>\n",
       "      <th>0</th>\n",
       "      <td>logistic_regression</td>\n",
       "      <td>0.502591</td>\n",
       "      <td>0.434084</td>\n",
       "      <td>0.477032</td>\n",
       "      <td>0.506098</td>\n",
       "      <td>0.454545</td>\n",
       "    </tr>\n",
       "    <tr>\n",
       "      <th>1</th>\n",
       "      <td>Naive Bayes</td>\n",
       "      <td>0.534763</td>\n",
       "      <td>0.470383</td>\n",
       "      <td>0.477032</td>\n",
       "      <td>0.542683</td>\n",
       "      <td>0.473684</td>\n",
       "    </tr>\n",
       "    <tr>\n",
       "      <th>2</th>\n",
       "      <td>KNN</td>\n",
       "      <td>0.574300</td>\n",
       "      <td>0.502994</td>\n",
       "      <td>0.593640</td>\n",
       "      <td>0.571646</td>\n",
       "      <td>0.544571</td>\n",
       "    </tr>\n",
       "  </tbody>\n",
       "</table>\n",
       "</div>"
      ],
      "text/plain": [
       "                  Model  AUC Score  Precision Score  Recall Score  \\\n",
       "0  logistic_regression    0.502591         0.434084      0.477032   \n",
       "1          Naive Bayes    0.534763         0.470383      0.477032   \n",
       "2                  KNN    0.574300         0.502994      0.593640   \n",
       "\n",
       "   Accuracy Score  f1-score  \n",
       "0        0.506098  0.454545  \n",
       "1        0.542683  0.473684  \n",
       "2        0.571646  0.544571  "
      ]
     },
     "execution_count": 47,
     "metadata": {},
     "output_type": "execute_result"
    }
   ],
   "source": [
    "import sklearn.metrics as metrics\n",
    "#compiling the required information\n",
    "metrics = pd.Series({\"Model\" : \"KNN \", \n",
    "                                    \"AUC Score\" : metrics.roc_auc_score(y_test, y_pred_knn),\n",
    "                                    \"Precision Score\" : metrics.precision_score(y_test, y_pred_knn),\n",
    "                                    \"Recall Score\" : metrics.recall_score(y_test, y_pred_knn),\n",
    "                                    \"Accuracy Score\" : metrics.accuracy_score(y_test, y_pred_knn),\n",
    "                                    \"f1-score\" : metrics.f1_score(y_test, y_pred_knn)})\n",
    "#appending our result table\n",
    "result_tabulation = result_tabulation.append(metrics, ignore_index=True)\n",
    "\n",
    "#view the result table\n",
    "result_tabulation"
   ]
  },
  {
   "cell_type": "markdown",
   "id": "aea0d6e1",
   "metadata": {},
   "source": [
    "### 5.4 Support Vector Machine\n",
    "<a id='svm'></a>\n"
   ]
  },
  {
   "cell_type": "markdown",
   "id": "7b2d07a4",
   "metadata": {},
   "source": [
    "#### Support Vector Machine or SVM is a supervised and linear Machine Learning algorithm most commonly used for solving classification problems and is also referred to as Support Vector Classification."
   ]
  },
  {
   "cell_type": "code",
   "execution_count": 48,
   "id": "dc21a9d5",
   "metadata": {},
   "outputs": [],
   "source": [
    "from sklearn.svm import SVC\n",
    "classifier = SVC(kernel='rbf',random_state = 1)\n",
    "classifier.fit(x_train,y_train)\n",
    "\n",
    "y_pred_svm = classifier.predict(x_test)"
   ]
  },
  {
   "cell_type": "code",
   "execution_count": 49,
   "id": "5366abcb",
   "metadata": {},
   "outputs": [
    {
     "data": {
      "image/png": "[encoded data removed]",
      "text/plain": [
       "<Figure size 576x360 with 1 Axes>"
      ]
     },
     "metadata": {
      "needs_background": "light"
     },
     "output_type": "display_data"
    }
   ],
   "source": [
    "from sklearn.metrics import confusion_matrix\n",
    "#compute the confusion matrix\n",
    "cm = confusion_matrix(y_test,y_pred_svm)\n",
    "\n",
    "conf_matrix = pd.DataFrame(data=cm,columns=['Predicted:0','Predicted:1'],\n",
    "                          index=['Actual:0','Actual:1'])\n",
    "plt.figure(figsize=(8,5))\n",
    "\n",
    "sns.heatmap(conf_matrix,annot=True,fmt='d',cmap='YlGnBu',cbar=False)\n",
    "plt.show()\n",
    "\n"
   ]
  },
  {
   "cell_type": "code",
   "execution_count": 50,
   "id": "f0753ecc",
   "metadata": {},
   "outputs": [
    {
     "name": "stdout",
     "output_type": "stream",
     "text": [
      "              precision    recall  f1-score   support\n",
      "\n",
      "           0       0.67      0.62      0.65       373\n",
      "           1       0.55      0.60      0.57       283\n",
      "\n",
      "    accuracy                           0.61       656\n",
      "   macro avg       0.61      0.61      0.61       656\n",
      "weighted avg       0.62      0.61      0.61       656\n",
      "\n"
     ]
    }
   ],
   "source": [
    "from sklearn.metrics import classification_report\n",
    "\n",
    "result = classification_report(y_test,y_pred_svm)\n",
    "print(result)"
   ]
  },
  {
   "cell_type": "code",
   "execution_count": 51,
   "id": "2e589e27",
   "metadata": {},
   "outputs": [
    {
     "data": {
      "image/png": "[encoded data removed]",
      "text/plain": [
       "<Figure size 576x360 with 1 Axes>"
      ]
     },
     "metadata": {
      "needs_background": "light"
     },
     "output_type": "display_data"
    }
   ],
   "source": [
    "from sklearn.metrics import roc_curve\n",
    "from sklearn.metrics import roc_auc_score\n",
    "\n",
    "plt.rcParams['figure.figsize']=(8,5)\n",
    "\n",
    "fpr,tpr,th = roc_curve(y_test,y_pred_svm)\n",
    "# plor ROC curve\n",
    "plt.plot(fpr,tpr)\n",
    "\n",
    "plt.xlim([0.0,1.0])\n",
    "plt.ylim([0.0,1.0])\n",
    "\n",
    "plt.plot([0,1],[0,1],'r--')  # r-- : Red dashed line\n",
    "\n",
    "#AUC or AUROC is area under ROC curve. The value of AUC tells us the model performance. Higher the AUC \n",
    "# better the model performance\n",
    "#to add AOC score\n",
    "plt.text(x=0.05,y=0.7,s=('AUC Score',round(roc_auc_score(y_test,y_pred_svm),6)))\n",
    "\n",
    "plt.xlabel('False positive rate(1-Specificity)')\n",
    "plt.ylabel('True positive rate(Specificity)')\n",
    "\n",
    "plt.grid(True)"
   ]
  },
  {
   "cell_type": "code",
   "execution_count": 52,
   "id": "8bbefc32",
   "metadata": {},
   "outputs": [
    {
     "data": {
      "text/html": [
       "<div>\n",
       "<style scoped>\n",
       "    .dataframe tbody tr th:only-of-type {\n",
       "        vertical-align: middle;\n",
       "    }\n",
       "\n",
       "    .dataframe tbody tr th {\n",
       "        vertical-align: top;\n",
       "    }\n",
       "\n",
       "    .dataframe thead th {\n",
       "        text-align: right;\n",
       "    }\n",
       "</style>\n",
       "<table border=\"1\" class=\"dataframe\">\n",
       "  <thead>\n",
       "    <tr style=\"text-align: right;\">\n",
       "      <th></th>\n",
       "      <th>Model</th>\n",
       "      <th>AUC Score</th>\n",
       "      <th>Precision Score</th>\n",
       "      <th>Recall Score</th>\n",
       "      <th>Accuracy Score</th>\n",
       "      <th>f1-score</th>\n",
       "    </tr>\n",
       "  </thead>\n",
       "  <tbody>\n",
       "    <tr>\n",
       "      <th>0</th>\n",
       "      <td>logistic_regression</td>\n",
       "      <td>0.502591</td>\n",
       "      <td>0.434084</td>\n",
       "      <td>0.477032</td>\n",
       "      <td>0.506098</td>\n",
       "      <td>0.454545</td>\n",
       "    </tr>\n",
       "    <tr>\n",
       "      <th>1</th>\n",
       "      <td>Naive Bayes</td>\n",
       "      <td>0.534763</td>\n",
       "      <td>0.470383</td>\n",
       "      <td>0.477032</td>\n",
       "      <td>0.542683</td>\n",
       "      <td>0.473684</td>\n",
       "    </tr>\n",
       "    <tr>\n",
       "      <th>2</th>\n",
       "      <td>KNN</td>\n",
       "      <td>0.574300</td>\n",
       "      <td>0.502994</td>\n",
       "      <td>0.593640</td>\n",
       "      <td>0.571646</td>\n",
       "      <td>0.544571</td>\n",
       "    </tr>\n",
       "    <tr>\n",
       "      <th>3</th>\n",
       "      <td>SVM</td>\n",
       "      <td>0.609579</td>\n",
       "      <td>0.545161</td>\n",
       "      <td>0.597173</td>\n",
       "      <td>0.611280</td>\n",
       "      <td>0.569983</td>\n",
       "    </tr>\n",
       "  </tbody>\n",
       "</table>\n",
       "</div>"
      ],
      "text/plain": [
       "                  Model  AUC Score  Precision Score  Recall Score  \\\n",
       "0  logistic_regression    0.502591         0.434084      0.477032   \n",
       "1          Naive Bayes    0.534763         0.470383      0.477032   \n",
       "2                  KNN    0.574300         0.502994      0.593640   \n",
       "3                  SVM    0.609579         0.545161      0.597173   \n",
       "\n",
       "   Accuracy Score  f1-score  \n",
       "0        0.506098  0.454545  \n",
       "1        0.542683  0.473684  \n",
       "2        0.571646  0.544571  \n",
       "3        0.611280  0.569983  "
      ]
     },
     "execution_count": 52,
     "metadata": {},
     "output_type": "execute_result"
    }
   ],
   "source": [
    "import sklearn.metrics as metrics\n",
    "#compiling the required information\n",
    "metrics = pd.Series({\"Model\" : \"SVM \", \n",
    "                                    \"AUC Score\" : metrics.roc_auc_score(y_test, y_pred_svm),\n",
    "                                    \"Precision Score\" : metrics.precision_score(y_test, y_pred_svm),\n",
    "                                    \"Recall Score\" : metrics.recall_score(y_test, y_pred_svm),\n",
    "                                    \"Accuracy Score\" : metrics.accuracy_score(y_test, y_pred_svm),\n",
    "                                    \"f1-score\" : metrics.f1_score(y_test, y_pred_svm)})\n",
    "#appending our result table\n",
    "result_tabulation = result_tabulation.append(metrics, ignore_index=True)\n",
    "\n",
    "#view the result table\n",
    "result_tabulation"
   ]
  },
  {
   "cell_type": "markdown",
   "id": "ebb8d36c",
   "metadata": {},
   "source": [
    "### 5.5 Decision tree\n",
    "<a id='decision_tree'></a>\n"
   ]
  },
  {
   "cell_type": "markdown",
   "id": "5ada404b",
   "metadata": {},
   "source": [
    "#### The goal of this algorithm is to create a model that predicts the value of a target variable, for which the decision tree uses the tree representation to solve the problem in which the leaf node corresponds to a class label and attributes are represented on the internal node of the tree."
   ]
  },
  {
   "cell_type": "code",
   "execution_count": 53,
   "id": "9ea17220",
   "metadata": {},
   "outputs": [],
   "source": [
    "from sklearn.tree import DecisionTreeClassifier\n",
    "DT = DecisionTreeClassifier()\n",
    "# Training the model \n",
    "DT.fit(x_train, y_train) \n",
    "\n",
    "# Predicting the chance of admission\n",
    "y_pred_dt = DT.predict(x_test)"
   ]
  },
  {
   "cell_type": "code",
   "execution_count": 54,
   "id": "c3f2f5ba",
   "metadata": {},
   "outputs": [
    {
     "data": {
      "image/png": "[encoded data removed]",
      "text/plain": [
       "<Figure size 576x360 with 1 Axes>"
      ]
     },
     "metadata": {
      "needs_background": "light"
     },
     "output_type": "display_data"
    }
   ],
   "source": [
    "from sklearn.metrics import confusion_matrix\n",
    "#computing the confusion matrix\n",
    "#set size of the plot\n",
    "\n",
    "cm = confusion_matrix(y_test, y_pred_dt)\n",
    "conf_matrix = pd.DataFrame(data=cm, columns=[\"Predicted:0\", \"Predicted:1\"], index=[\"Actual:0\", \"Actual:1\"])\n",
    "\n",
    "plt.figure(figsize=(8,5))\n",
    "\n",
    "sns.heatmap(conf_matrix, annot=True, fmt= \"d\", cmap=\"YlGnBu\", cbar=False)\n",
    "plt.show()\n"
   ]
  },
  {
   "cell_type": "code",
   "execution_count": 55,
   "id": "ceace3fd",
   "metadata": {},
   "outputs": [
    {
     "name": "stdout",
     "output_type": "stream",
     "text": [
      "              precision    recall  f1-score   support\n",
      "\n",
      "           0       0.77      0.76      0.76       373\n",
      "           1       0.68      0.70      0.69       283\n",
      "\n",
      "    accuracy                           0.73       656\n",
      "   macro avg       0.73      0.73      0.73       656\n",
      "weighted avg       0.73      0.73      0.73       656\n",
      "\n"
     ]
    }
   ],
   "source": [
    "from sklearn.metrics import classification_report\n",
    "\n",
    "result = classification_report(y_test, y_pred_dt)\n",
    "print(result)"
   ]
  },
  {
   "cell_type": "code",
   "execution_count": 56,
   "id": "c4f30ba4",
   "metadata": {},
   "outputs": [
    {
     "data": {
      "image/png": "[encoded data removed]",
      "text/plain": [
       "<Figure size 576x360 with 1 Axes>"
      ]
     },
     "metadata": {
      "needs_background": "light"
     },
     "output_type": "display_data"
    }
   ],
   "source": [
    "from sklearn.metrics import roc_curve\n",
    "from sklearn.metrics import roc_auc_score\n",
    "\n",
    "plt.rcParams['figure.figsize']=(8,5)\n",
    "\n",
    "fpr,tpr,th = roc_curve(y_test,y_pred_dt)\n",
    "# plor ROC curve\n",
    "plt.plot(fpr,tpr)\n",
    "\n",
    "plt.xlim([0.0,1.0])\n",
    "plt.ylim([0.0,1.0])\n",
    "\n",
    "plt.plot([0,1],[0,1],'r--')  # r-- : Red dashed line\n",
    "\n",
    "#AUC or AUROC is area under ROC curve. The value of AUC tells us the model performance. Higher the AUC \n",
    "# better the model performance\n",
    "#to add AOC score\n",
    "plt.text(x=0.05,y=0.8,s=('AUC Score',round(roc_auc_score(y_test,y_pred_dt),6)))\n",
    "\n",
    "plt.xlabel('False positive rate(1-Specificity)')\n",
    "plt.ylabel('True positive rate(Specificity)')\n",
    "\n",
    "plt.grid(True)"
   ]
  },
  {
   "cell_type": "code",
   "execution_count": 57,
   "id": "80db2294",
   "metadata": {},
   "outputs": [
    {
     "data": {
      "text/html": [
       "<div>\n",
       "<style scoped>\n",
       "    .dataframe tbody tr th:only-of-type {\n",
       "        vertical-align: middle;\n",
       "    }\n",
       "\n",
       "    .dataframe tbody tr th {\n",
       "        vertical-align: top;\n",
       "    }\n",
       "\n",
       "    .dataframe thead th {\n",
       "        text-align: right;\n",
       "    }\n",
       "</style>\n",
       "<table border=\"1\" class=\"dataframe\">\n",
       "  <thead>\n",
       "    <tr style=\"text-align: right;\">\n",
       "      <th></th>\n",
       "      <th>Model</th>\n",
       "      <th>AUC Score</th>\n",
       "      <th>Precision Score</th>\n",
       "      <th>Recall Score</th>\n",
       "      <th>Accuracy Score</th>\n",
       "      <th>f1-score</th>\n",
       "    </tr>\n",
       "  </thead>\n",
       "  <tbody>\n",
       "    <tr>\n",
       "      <th>0</th>\n",
       "      <td>logistic_regression</td>\n",
       "      <td>0.502591</td>\n",
       "      <td>0.434084</td>\n",
       "      <td>0.477032</td>\n",
       "      <td>0.506098</td>\n",
       "      <td>0.454545</td>\n",
       "    </tr>\n",
       "    <tr>\n",
       "      <th>1</th>\n",
       "      <td>Naive Bayes</td>\n",
       "      <td>0.534763</td>\n",
       "      <td>0.470383</td>\n",
       "      <td>0.477032</td>\n",
       "      <td>0.542683</td>\n",
       "      <td>0.473684</td>\n",
       "    </tr>\n",
       "    <tr>\n",
       "      <th>2</th>\n",
       "      <td>KNN</td>\n",
       "      <td>0.574300</td>\n",
       "      <td>0.502994</td>\n",
       "      <td>0.593640</td>\n",
       "      <td>0.571646</td>\n",
       "      <td>0.544571</td>\n",
       "    </tr>\n",
       "    <tr>\n",
       "      <th>3</th>\n",
       "      <td>SVM</td>\n",
       "      <td>0.609579</td>\n",
       "      <td>0.545161</td>\n",
       "      <td>0.597173</td>\n",
       "      <td>0.611280</td>\n",
       "      <td>0.569983</td>\n",
       "    </tr>\n",
       "    <tr>\n",
       "      <th>4</th>\n",
       "      <td>Decision tree</td>\n",
       "      <td>0.609579</td>\n",
       "      <td>0.545161</td>\n",
       "      <td>0.597173</td>\n",
       "      <td>0.611280</td>\n",
       "      <td>0.569983</td>\n",
       "    </tr>\n",
       "  </tbody>\n",
       "</table>\n",
       "</div>"
      ],
      "text/plain": [
       "                  Model  AUC Score  Precision Score  Recall Score  \\\n",
       "0  logistic_regression    0.502591         0.434084      0.477032   \n",
       "1          Naive Bayes    0.534763         0.470383      0.477032   \n",
       "2                  KNN    0.574300         0.502994      0.593640   \n",
       "3                  SVM    0.609579         0.545161      0.597173   \n",
       "4         Decision tree   0.609579         0.545161      0.597173   \n",
       "\n",
       "   Accuracy Score  f1-score  \n",
       "0        0.506098  0.454545  \n",
       "1        0.542683  0.473684  \n",
       "2        0.571646  0.544571  \n",
       "3        0.611280  0.569983  \n",
       "4        0.611280  0.569983  "
      ]
     },
     "execution_count": 57,
     "metadata": {},
     "output_type": "execute_result"
    }
   ],
   "source": [
    "import sklearn.metrics as metrics\n",
    "#compiling the required information\n",
    "metrics = pd.Series({\"Model\" : \"Decision tree\", \n",
    "                                    \"AUC Score\" : metrics.roc_auc_score(y_test, y_pred_svm),\n",
    "                                    \"Precision Score\" : metrics.precision_score(y_test, y_pred_svm),\n",
    "                                    \"Recall Score\" : metrics.recall_score(y_test, y_pred_svm),\n",
    "                                    \"Accuracy Score\" : metrics.accuracy_score(y_test, y_pred_svm),\n",
    "                                    \"f1-score\" : metrics.f1_score(y_test, y_pred_svm)})\n",
    "#appending our result table\n",
    "result_tabulation = result_tabulation.append(metrics, ignore_index=True)\n",
    "\n",
    "#view the result table\n",
    "result_tabulation"
   ]
  },
  {
   "cell_type": "markdown",
   "id": "f4204718",
   "metadata": {},
   "source": [
    "### 5.6 Random Forest\n",
    "<a id='random_forest'></a>\n"
   ]
  },
  {
   "cell_type": "markdown",
   "id": "5b6db72d",
   "metadata": {},
   "source": [
    "#### Random Forest is a classifier that contains a number of decision trees on various subsets of the given dataset and takes the average to improve the predictive accuracy of that dataset. The greater number of trees in the forest leads to higher accuracy and prevents the problem of overfitting."
   ]
  },
  {
   "cell_type": "code",
   "execution_count": 58,
   "id": "22dab3f7",
   "metadata": {},
   "outputs": [
    {
     "name": "stdout",
     "output_type": "stream",
     "text": [
      "Random Forest Classifier\n",
      "\n"
     ]
    }
   ],
   "source": [
    "from sklearn.ensemble import RandomForestClassifier\n",
    "print('Random Forest Classifier\\n')\n",
    "Rfc = RandomForestClassifier()\n",
    "Rfc.fit(x_train, y_train)\n",
    "\n",
    "y_Rfc = Rfc.predict(x_test)\n"
   ]
  },
  {
   "cell_type": "code",
   "execution_count": 59,
   "id": "54aad854",
   "metadata": {},
   "outputs": [
    {
     "data": {
      "image/png": "[encoded data removed]",
      "text/plain": [
       "<Figure size 576x360 with 1 Axes>"
      ]
     },
     "metadata": {
      "needs_background": "light"
     },
     "output_type": "display_data"
    }
   ],
   "source": [
    "#computing the confusion matrix\n",
    "#set size of the plot\n",
    "\n",
    "cm = confusion_matrix(y_test, y_Rfc)\n",
    "conf_matrix = pd.DataFrame(data=cm, columns=[\"Predicted:0\", \"Predicted:1\"], index=[\"Actual:0\", \"Actual:1\"])\n",
    "\n",
    "plt.figure(figsize=(8,5))\n",
    "\n",
    "sns.heatmap(conf_matrix, annot=True, fmt= \"d\", cmap=\"YlGnBu\", cbar=False)\n",
    "plt.show()\n"
   ]
  },
  {
   "cell_type": "code",
   "execution_count": 60,
   "id": "a9ec046c",
   "metadata": {},
   "outputs": [
    {
     "name": "stdout",
     "output_type": "stream",
     "text": [
      "              precision    recall  f1-score   support\n",
      "\n",
      "           0       0.84      0.82      0.83       373\n",
      "           1       0.77      0.79      0.78       283\n",
      "\n",
      "    accuracy                           0.81       656\n",
      "   macro avg       0.80      0.80      0.80       656\n",
      "weighted avg       0.81      0.81      0.81       656\n",
      "\n"
     ]
    }
   ],
   "source": [
    "from sklearn.metrics import classification_report\n",
    "\n",
    "result = classification_report(y_test, y_Rfc)\n",
    "print(result)"
   ]
  },
  {
   "cell_type": "code",
   "execution_count": 61,
   "id": "540be018",
   "metadata": {},
   "outputs": [
    {
     "data": {
      "image/png": "[encoded data removed]",
      "text/plain": [
       "<Figure size 576x360 with 1 Axes>"
      ]
     },
     "metadata": {
      "needs_background": "light"
     },
     "output_type": "display_data"
    }
   ],
   "source": [
    "from sklearn.metrics import roc_curve\n",
    "from sklearn.metrics import roc_auc_score\n",
    "\n",
    "plt.rcParams['figure.figsize']=(8,5)\n",
    "\n",
    "fpr,tpr,th = roc_curve(y_test,y_Rfc)\n",
    "# plor ROC curve\n",
    "plt.plot(fpr,tpr)\n",
    "\n",
    "plt.xlim([0.0,1.0])\n",
    "plt.ylim([0.0,1.0])\n",
    "\n",
    "plt.plot([0,1],[0,1],'r--')  # r-- : Red dashed line\n",
    "\n",
    "#AUC or AUROC is area under ROC curve. The value of AUC tells us the model performance. Higher the AUC \n",
    "# better the model performance\n",
    "#to add AOC score\n",
    "plt.text(x=0.05,y=0.8,s=('AUC Score',round(roc_auc_score(y_test,y_Rfc),6)))\n",
    "\n",
    "plt.xlabel('False positive rate(1-Specificity)')\n",
    "plt.ylabel('True positive rate(Specificity)')\n",
    "\n",
    "plt.grid(True)"
   ]
  },
  {
   "cell_type": "code",
   "execution_count": 62,
   "id": "e489701c",
   "metadata": {},
   "outputs": [
    {
     "data": {
      "text/html": [
       "<div>\n",
       "<style scoped>\n",
       "    .dataframe tbody tr th:only-of-type {\n",
       "        vertical-align: middle;\n",
       "    }\n",
       "\n",
       "    .dataframe tbody tr th {\n",
       "        vertical-align: top;\n",
       "    }\n",
       "\n",
       "    .dataframe thead th {\n",
       "        text-align: right;\n",
       "    }\n",
       "</style>\n",
       "<table border=\"1\" class=\"dataframe\">\n",
       "  <thead>\n",
       "    <tr style=\"text-align: right;\">\n",
       "      <th></th>\n",
       "      <th>Model</th>\n",
       "      <th>AUC Score</th>\n",
       "      <th>Precision Score</th>\n",
       "      <th>Recall Score</th>\n",
       "      <th>Accuracy Score</th>\n",
       "      <th>f1-score</th>\n",
       "    </tr>\n",
       "  </thead>\n",
       "  <tbody>\n",
       "    <tr>\n",
       "      <th>0</th>\n",
       "      <td>logistic_regression</td>\n",
       "      <td>0.502591</td>\n",
       "      <td>0.434084</td>\n",
       "      <td>0.477032</td>\n",
       "      <td>0.506098</td>\n",
       "      <td>0.454545</td>\n",
       "    </tr>\n",
       "    <tr>\n",
       "      <th>1</th>\n",
       "      <td>Naive Bayes</td>\n",
       "      <td>0.534763</td>\n",
       "      <td>0.470383</td>\n",
       "      <td>0.477032</td>\n",
       "      <td>0.542683</td>\n",
       "      <td>0.473684</td>\n",
       "    </tr>\n",
       "    <tr>\n",
       "      <th>2</th>\n",
       "      <td>KNN</td>\n",
       "      <td>0.574300</td>\n",
       "      <td>0.502994</td>\n",
       "      <td>0.593640</td>\n",
       "      <td>0.571646</td>\n",
       "      <td>0.544571</td>\n",
       "    </tr>\n",
       "    <tr>\n",
       "      <th>3</th>\n",
       "      <td>SVM</td>\n",
       "      <td>0.609579</td>\n",
       "      <td>0.545161</td>\n",
       "      <td>0.597173</td>\n",
       "      <td>0.611280</td>\n",
       "      <td>0.569983</td>\n",
       "    </tr>\n",
       "    <tr>\n",
       "      <th>4</th>\n",
       "      <td>Decision tree</td>\n",
       "      <td>0.609579</td>\n",
       "      <td>0.545161</td>\n",
       "      <td>0.597173</td>\n",
       "      <td>0.611280</td>\n",
       "      <td>0.569983</td>\n",
       "    </tr>\n",
       "    <tr>\n",
       "      <th>5</th>\n",
       "      <td>Random Forest</td>\n",
       "      <td>0.804181</td>\n",
       "      <td>0.768966</td>\n",
       "      <td>0.787986</td>\n",
       "      <td>0.806402</td>\n",
       "      <td>0.778360</td>\n",
       "    </tr>\n",
       "  </tbody>\n",
       "</table>\n",
       "</div>"
      ],
      "text/plain": [
       "                  Model  AUC Score  Precision Score  Recall Score  \\\n",
       "0  logistic_regression    0.502591         0.434084      0.477032   \n",
       "1          Naive Bayes    0.534763         0.470383      0.477032   \n",
       "2                  KNN    0.574300         0.502994      0.593640   \n",
       "3                  SVM    0.609579         0.545161      0.597173   \n",
       "4         Decision tree   0.609579         0.545161      0.597173   \n",
       "5         Random Forest   0.804181         0.768966      0.787986   \n",
       "\n",
       "   Accuracy Score  f1-score  \n",
       "0        0.506098  0.454545  \n",
       "1        0.542683  0.473684  \n",
       "2        0.571646  0.544571  \n",
       "3        0.611280  0.569983  \n",
       "4        0.611280  0.569983  \n",
       "5        0.806402  0.778360  "
      ]
     },
     "execution_count": 62,
     "metadata": {},
     "output_type": "execute_result"
    }
   ],
   "source": [
    "import sklearn.metrics as metrics\n",
    "#compiling the required information\n",
    "metrics = pd.Series({\"Model\" : \"Random Forest\", \n",
    "                                    \"AUC Score\" : metrics.roc_auc_score(y_test, y_Rfc),\n",
    "                                    \"Precision Score\" : metrics.precision_score(y_test, y_Rfc),\n",
    "                                    \"Recall Score\" : metrics.recall_score(y_test, y_Rfc),\n",
    "                                    \"Accuracy Score\" : metrics.accuracy_score(y_test, y_Rfc),\n",
    "                                    \"f1-score\" : metrics.f1_score(y_test, y_Rfc)})\n",
    "#appending our result table\n",
    "result_tabulation = result_tabulation.append(metrics, ignore_index=True)\n",
    "\n",
    "#view the result table\n",
    "result_tabulation"
   ]
  },
  {
   "cell_type": "markdown",
   "id": "2158b946",
   "metadata": {},
   "source": [
    "#### From the above table we can see Random forest is giving the best results comparing to rest of the classifier models but further we are checking the accuracy using boosting methods for better comparision"
   ]
  },
  {
   "cell_type": "markdown",
   "id": "58f4d2a8",
   "metadata": {},
   "source": [
    "## Boosting methods"
   ]
  },
  {
   "cell_type": "markdown",
   "id": "1183e27a",
   "metadata": {},
   "source": [
    "## We are using Boosting method to further check the accuracy as the boosting method reduces the training error and works sequentially"
   ]
  },
  {
   "cell_type": "markdown",
   "id": "684aee11",
   "metadata": {},
   "source": [
    "### 5.7 ADA BOOST\n",
    "<a id='ada'></a>\n"
   ]
  },
  {
   "cell_type": "markdown",
   "id": "9c6b71b5",
   "metadata": {},
   "source": [
    "#### AdaBoost also called Adaptive Boosting is a technique in Machine Learning used as an Ensemble Method. The most common algorithm used with AdaBoost is decision trees with one level that means with Decision trees with only 1 split. "
   ]
  },
  {
   "cell_type": "code",
   "execution_count": 63,
   "id": "ced3418d",
   "metadata": {},
   "outputs": [],
   "source": [
    "from sklearn.ensemble import AdaBoostClassifier\n",
    "\n",
    "#build the model\n",
    "adaboost = AdaBoostClassifier(random_state=10)\n",
    "\n",
    "#fit the model\n",
    "adaboost.fit(x_train, y_train)\n",
    "\n",
    "#predict the values\n",
    "y_pred_adboost = adaboost.predict(x_test)"
   ]
  },
  {
   "cell_type": "code",
   "execution_count": 64,
   "id": "4fc59b79",
   "metadata": {},
   "outputs": [
    {
     "data": {
      "image/png": "[encoded data removed]",
      "text/plain": [
       "<Figure size 576x360 with 1 Axes>"
      ]
     },
     "metadata": {
      "needs_background": "light"
     },
     "output_type": "display_data"
    }
   ],
   "source": [
    "from sklearn.metrics import confusion_matrix\n",
    "#computing the confusion matrix\n",
    "#set size of the plot\n",
    "\n",
    "cm = confusion_matrix(y_test, y_pred_adboost)\n",
    "conf_matrix = pd.DataFrame(data=cm, columns=[\"Predicted:0\", \"Predicted:1\"], index=[\"Actual:0\", \"Actual:1\"])\n",
    "\n",
    "plt.figure(figsize=(8,5))\n",
    "\n",
    "sns.heatmap(conf_matrix, annot=True, fmt= \"d\", cmap=\"YlGnBu\", cbar=False)\n",
    "plt.show()\n"
   ]
  },
  {
   "cell_type": "code",
   "execution_count": 65,
   "id": "d105ef06",
   "metadata": {},
   "outputs": [
    {
     "name": "stdout",
     "output_type": "stream",
     "text": [
      "              precision    recall  f1-score   support\n",
      "\n",
      "           0       0.81      0.68      0.74       373\n",
      "           1       0.65      0.79      0.72       283\n",
      "\n",
      "    accuracy                           0.73       656\n",
      "   macro avg       0.73      0.74      0.73       656\n",
      "weighted avg       0.74      0.73      0.73       656\n",
      "\n"
     ]
    }
   ],
   "source": [
    "from sklearn.metrics import classification_report\n",
    "\n",
    "result = classification_report(y_test, y_pred_adboost)\n",
    "print(result)"
   ]
  },
  {
   "cell_type": "code",
   "execution_count": 66,
   "id": "c6042c9d",
   "metadata": {},
   "outputs": [
    {
     "data": {
      "image/png": "[encoded data removed]",
      "text/plain": [
       "<Figure size 576x360 with 1 Axes>"
      ]
     },
     "metadata": {
      "needs_background": "light"
     },
     "output_type": "display_data"
    }
   ],
   "source": [
    "from sklearn.metrics import roc_curve\n",
    "from sklearn.metrics import roc_auc_score\n",
    "\n",
    "plt.rcParams['figure.figsize']=(8,5)\n",
    "\n",
    "fpr,tpr,th = roc_curve(y_test,y_pred_adboost)\n",
    "# plor ROC curve\n",
    "plt.plot(fpr,tpr)\n",
    "\n",
    "plt.xlim([0.0,1.0])\n",
    "plt.ylim([0.0,1.0])\n",
    "\n",
    "plt.plot([0,1],[0,1],'r--')  # r-- : Red dashed line\n",
    "\n",
    "#AUC or AUROC is area under ROC curve. The value of AUC tells us the model performance. Higher the AUC \n",
    "# better the model performance\n",
    "#to add AOC score\n",
    "plt.text(x=0.1,y=0.85,s=('AUC Score',round(roc_auc_score(y_test,y_pred_adboost),6)))\n",
    "\n",
    "plt.xlabel('False positive rate(1-Specificity)')\n",
    "plt.ylabel('True positive rate(Specificity)')\n",
    "\n",
    "plt.grid(True)"
   ]
  },
  {
   "cell_type": "code",
   "execution_count": 67,
   "id": "96647374",
   "metadata": {},
   "outputs": [
    {
     "data": {
      "text/html": [
       "<div>\n",
       "<style scoped>\n",
       "    .dataframe tbody tr th:only-of-type {\n",
       "        vertical-align: middle;\n",
       "    }\n",
       "\n",
       "    .dataframe tbody tr th {\n",
       "        vertical-align: top;\n",
       "    }\n",
       "\n",
       "    .dataframe thead th {\n",
       "        text-align: right;\n",
       "    }\n",
       "</style>\n",
       "<table border=\"1\" class=\"dataframe\">\n",
       "  <thead>\n",
       "    <tr style=\"text-align: right;\">\n",
       "      <th></th>\n",
       "      <th>Model</th>\n",
       "      <th>AUC Score</th>\n",
       "      <th>Precision Score</th>\n",
       "      <th>Recall Score</th>\n",
       "      <th>Accuracy Score</th>\n",
       "      <th>f1-score</th>\n",
       "    </tr>\n",
       "  </thead>\n",
       "  <tbody>\n",
       "    <tr>\n",
       "      <th>0</th>\n",
       "      <td>logistic_regression</td>\n",
       "      <td>0.502591</td>\n",
       "      <td>0.434084</td>\n",
       "      <td>0.477032</td>\n",
       "      <td>0.506098</td>\n",
       "      <td>0.454545</td>\n",
       "    </tr>\n",
       "    <tr>\n",
       "      <th>1</th>\n",
       "      <td>Naive Bayes</td>\n",
       "      <td>0.534763</td>\n",
       "      <td>0.470383</td>\n",
       "      <td>0.477032</td>\n",
       "      <td>0.542683</td>\n",
       "      <td>0.473684</td>\n",
       "    </tr>\n",
       "    <tr>\n",
       "      <th>2</th>\n",
       "      <td>KNN</td>\n",
       "      <td>0.574300</td>\n",
       "      <td>0.502994</td>\n",
       "      <td>0.593640</td>\n",
       "      <td>0.571646</td>\n",
       "      <td>0.544571</td>\n",
       "    </tr>\n",
       "    <tr>\n",
       "      <th>3</th>\n",
       "      <td>SVM</td>\n",
       "      <td>0.609579</td>\n",
       "      <td>0.545161</td>\n",
       "      <td>0.597173</td>\n",
       "      <td>0.611280</td>\n",
       "      <td>0.569983</td>\n",
       "    </tr>\n",
       "    <tr>\n",
       "      <th>4</th>\n",
       "      <td>Decision tree</td>\n",
       "      <td>0.609579</td>\n",
       "      <td>0.545161</td>\n",
       "      <td>0.597173</td>\n",
       "      <td>0.611280</td>\n",
       "      <td>0.569983</td>\n",
       "    </tr>\n",
       "    <tr>\n",
       "      <th>5</th>\n",
       "      <td>Random Forest</td>\n",
       "      <td>0.804181</td>\n",
       "      <td>0.768966</td>\n",
       "      <td>0.787986</td>\n",
       "      <td>0.806402</td>\n",
       "      <td>0.778360</td>\n",
       "    </tr>\n",
       "    <tr>\n",
       "      <th>6</th>\n",
       "      <td>ADA BOOST</td>\n",
       "      <td>0.737583</td>\n",
       "      <td>0.654971</td>\n",
       "      <td>0.791519</td>\n",
       "      <td>0.730183</td>\n",
       "      <td>0.716800</td>\n",
       "    </tr>\n",
       "  </tbody>\n",
       "</table>\n",
       "</div>"
      ],
      "text/plain": [
       "                  Model  AUC Score  Precision Score  Recall Score  \\\n",
       "0  logistic_regression    0.502591         0.434084      0.477032   \n",
       "1          Naive Bayes    0.534763         0.470383      0.477032   \n",
       "2                  KNN    0.574300         0.502994      0.593640   \n",
       "3                  SVM    0.609579         0.545161      0.597173   \n",
       "4         Decision tree   0.609579         0.545161      0.597173   \n",
       "5         Random Forest   0.804181         0.768966      0.787986   \n",
       "6             ADA BOOST   0.737583         0.654971      0.791519   \n",
       "\n",
       "   Accuracy Score  f1-score  \n",
       "0        0.506098  0.454545  \n",
       "1        0.542683  0.473684  \n",
       "2        0.571646  0.544571  \n",
       "3        0.611280  0.569983  \n",
       "4        0.611280  0.569983  \n",
       "5        0.806402  0.778360  \n",
       "6        0.730183  0.716800  "
      ]
     },
     "execution_count": 67,
     "metadata": {},
     "output_type": "execute_result"
    }
   ],
   "source": [
    "import sklearn.metrics as metrics\n",
    "#compiling the required information\n",
    "metrics = pd.Series({\"Model\" : \"ADA BOOST\", \n",
    "                                    \"AUC Score\" : metrics.roc_auc_score(y_test, y_pred_adboost),\n",
    "                                    \"Precision Score\" : metrics.precision_score(y_test, y_pred_adboost),\n",
    "                                    \"Recall Score\" : metrics.recall_score(y_test, y_pred_adboost),\n",
    "                                    \"Accuracy Score\" : metrics.accuracy_score(y_test, y_pred_adboost),\n",
    "                                    \"f1-score\" : metrics.f1_score(y_test, y_pred_adboost)})\n",
    "#appending our result table\n",
    "result_tabulation = result_tabulation.append(metrics, ignore_index=True)\n",
    "\n",
    "#view the result table\n",
    "result_tabulation"
   ]
  },
  {
   "cell_type": "markdown",
   "id": "f55755eb",
   "metadata": {},
   "source": [
    "### 5.8 XGBM Model\n",
    "<a id='xgbm'></a>\n"
   ]
  },
  {
   "cell_type": "markdown",
   "id": "ba034429",
   "metadata": {},
   "source": [
    "#### Extreme Gradient Boosting (XGBoost) is an open-source library that provides an efficient and effective implementation of the gradient boosting algorithm."
   ]
  },
  {
   "cell_type": "code",
   "execution_count": 68,
   "id": "577c0b4e",
   "metadata": {},
   "outputs": [
    {
     "name": "stdout",
     "output_type": "stream",
     "text": [
      "[19:48:48] WARNING: C:/Users/Administrator/workspace/xgboost-win64_release_1.5.1/src/learner.cc:1115: Starting in XGBoost 1.3.0, the default evaluation metric used with the objective 'binary:logistic' was changed from 'error' to 'logloss'. Explicitly set eval_metric if you'd like to restore the old behavior.\n"
     ]
    }
   ],
   "source": [
    "from xgboost.sklearn import XGBClassifier\n",
    "\n",
    "#build the model\n",
    "xgbm = XGBClassifier(random_state=10)\n",
    "\n",
    "#fit the model\n",
    "xgbm.fit(x_train, y_train)\n",
    "\n",
    "#predict the values\n",
    "y_pred_xgbm = xgbm.predict(x_test)"
   ]
  },
  {
   "cell_type": "code",
   "execution_count": 69,
   "id": "7d582b0b",
   "metadata": {},
   "outputs": [
    {
     "data": {
      "image/png": "[encoded data removed]",
      "text/plain": [
       "<Figure size 576x360 with 1 Axes>"
      ]
     },
     "metadata": {
      "needs_background": "light"
     },
     "output_type": "display_data"
    }
   ],
   "source": [
    "from sklearn.metrics import confusion_matrix\n",
    "#computing the confusion matrix\n",
    "#set size of the plot\n",
    "\n",
    "cm = confusion_matrix(y_test, y_pred_xgbm)\n",
    "conf_matrix = pd.DataFrame(data=cm, columns=[\"Predicted:0\", \"Predicted:1\"], index=[\"Actual:0\", \"Actual:1\"])\n",
    "\n",
    "plt.figure(figsize=(8,5))\n",
    "\n",
    "sns.heatmap(conf_matrix, annot=True, fmt= \"d\", cmap=\"YlGnBu\", cbar=False)\n",
    "plt.show()\n",
    "\n"
   ]
  },
  {
   "cell_type": "code",
   "execution_count": 70,
   "id": "dcdf3baf",
   "metadata": {},
   "outputs": [
    {
     "name": "stdout",
     "output_type": "stream",
     "text": [
      "              precision    recall  f1-score   support\n",
      "\n",
      "           0       0.80      0.80      0.80       373\n",
      "           1       0.74      0.74      0.74       283\n",
      "\n",
      "    accuracy                           0.77       656\n",
      "   macro avg       0.77      0.77      0.77       656\n",
      "weighted avg       0.77      0.77      0.77       656\n",
      "\n"
     ]
    }
   ],
   "source": [
    "from sklearn.metrics import classification_report\n",
    "\n",
    "result = classification_report(y_test, y_pred_xgbm)\n",
    "print(result)"
   ]
  },
  {
   "cell_type": "code",
   "execution_count": 71,
   "id": "fa201def",
   "metadata": {},
   "outputs": [
    {
     "data": {
      "image/png": "[encoded data removed]",
      "text/plain": [
       "<Figure size 576x360 with 1 Axes>"
      ]
     },
     "metadata": {
      "needs_background": "light"
     },
     "output_type": "display_data"
    }
   ],
   "source": [
    "from sklearn.metrics import roc_curve\n",
    "from sklearn.metrics import roc_auc_score\n",
    "\n",
    "plt.rcParams['figure.figsize']=(8,5)\n",
    "\n",
    "fpr,tpr,th = roc_curve(y_test,y_pred_xgbm)\n",
    "# plor ROC curve\n",
    "plt.plot(fpr,tpr)\n",
    "\n",
    "plt.xlim([0.0,1.0])\n",
    "plt.ylim([0.0,1.0])\n",
    "\n",
    "plt.plot([0,1],[0,1],'r--')  # r-- : Red dashed line\n",
    "\n",
    "#AUC or AUROC is area under ROC curve. The value of AUC tells us the model performance. Higher the AUC \n",
    "# better the model performance\n",
    "#to add AOC score\n",
    "plt.text(x=0.05,y=0.82,s=('AUC Score',round(roc_auc_score(y_test,y_pred_xgbm),6)))\n",
    "\n",
    "plt.xlabel('False positive rate(1-Specificity)')\n",
    "plt.ylabel('True positive rate(Specificity)')\n",
    "\n",
    "plt.grid(True)"
   ]
  },
  {
   "cell_type": "code",
   "execution_count": 72,
   "id": "00601275",
   "metadata": {},
   "outputs": [
    {
     "data": {
      "text/html": [
       "<div>\n",
       "<style scoped>\n",
       "    .dataframe tbody tr th:only-of-type {\n",
       "        vertical-align: middle;\n",
       "    }\n",
       "\n",
       "    .dataframe tbody tr th {\n",
       "        vertical-align: top;\n",
       "    }\n",
       "\n",
       "    .dataframe thead th {\n",
       "        text-align: right;\n",
       "    }\n",
       "</style>\n",
       "<table border=\"1\" class=\"dataframe\">\n",
       "  <thead>\n",
       "    <tr style=\"text-align: right;\">\n",
       "      <th></th>\n",
       "      <th>Model</th>\n",
       "      <th>AUC Score</th>\n",
       "      <th>Precision Score</th>\n",
       "      <th>Recall Score</th>\n",
       "      <th>Accuracy Score</th>\n",
       "      <th>f1-score</th>\n",
       "    </tr>\n",
       "  </thead>\n",
       "  <tbody>\n",
       "    <tr>\n",
       "      <th>0</th>\n",
       "      <td>logistic_regression</td>\n",
       "      <td>0.502591</td>\n",
       "      <td>0.434084</td>\n",
       "      <td>0.477032</td>\n",
       "      <td>0.506098</td>\n",
       "      <td>0.454545</td>\n",
       "    </tr>\n",
       "    <tr>\n",
       "      <th>1</th>\n",
       "      <td>Naive Bayes</td>\n",
       "      <td>0.534763</td>\n",
       "      <td>0.470383</td>\n",
       "      <td>0.477032</td>\n",
       "      <td>0.542683</td>\n",
       "      <td>0.473684</td>\n",
       "    </tr>\n",
       "    <tr>\n",
       "      <th>2</th>\n",
       "      <td>KNN</td>\n",
       "      <td>0.574300</td>\n",
       "      <td>0.502994</td>\n",
       "      <td>0.593640</td>\n",
       "      <td>0.571646</td>\n",
       "      <td>0.544571</td>\n",
       "    </tr>\n",
       "    <tr>\n",
       "      <th>3</th>\n",
       "      <td>SVM</td>\n",
       "      <td>0.609579</td>\n",
       "      <td>0.545161</td>\n",
       "      <td>0.597173</td>\n",
       "      <td>0.611280</td>\n",
       "      <td>0.569983</td>\n",
       "    </tr>\n",
       "    <tr>\n",
       "      <th>4</th>\n",
       "      <td>Decision tree</td>\n",
       "      <td>0.609579</td>\n",
       "      <td>0.545161</td>\n",
       "      <td>0.597173</td>\n",
       "      <td>0.611280</td>\n",
       "      <td>0.569983</td>\n",
       "    </tr>\n",
       "    <tr>\n",
       "      <th>5</th>\n",
       "      <td>Random Forest</td>\n",
       "      <td>0.804181</td>\n",
       "      <td>0.768966</td>\n",
       "      <td>0.787986</td>\n",
       "      <td>0.806402</td>\n",
       "      <td>0.778360</td>\n",
       "    </tr>\n",
       "    <tr>\n",
       "      <th>6</th>\n",
       "      <td>ADA BOOST</td>\n",
       "      <td>0.737583</td>\n",
       "      <td>0.654971</td>\n",
       "      <td>0.791519</td>\n",
       "      <td>0.730183</td>\n",
       "      <td>0.716800</td>\n",
       "    </tr>\n",
       "    <tr>\n",
       "      <th>7</th>\n",
       "      <td>XGBM</td>\n",
       "      <td>0.770489</td>\n",
       "      <td>0.736842</td>\n",
       "      <td>0.742049</td>\n",
       "      <td>0.774390</td>\n",
       "      <td>0.739437</td>\n",
       "    </tr>\n",
       "  </tbody>\n",
       "</table>\n",
       "</div>"
      ],
      "text/plain": [
       "                  Model  AUC Score  Precision Score  Recall Score  \\\n",
       "0  logistic_regression    0.502591         0.434084      0.477032   \n",
       "1          Naive Bayes    0.534763         0.470383      0.477032   \n",
       "2                  KNN    0.574300         0.502994      0.593640   \n",
       "3                  SVM    0.609579         0.545161      0.597173   \n",
       "4         Decision tree   0.609579         0.545161      0.597173   \n",
       "5         Random Forest   0.804181         0.768966      0.787986   \n",
       "6             ADA BOOST   0.737583         0.654971      0.791519   \n",
       "7                  XGBM   0.770489         0.736842      0.742049   \n",
       "\n",
       "   Accuracy Score  f1-score  \n",
       "0        0.506098  0.454545  \n",
       "1        0.542683  0.473684  \n",
       "2        0.571646  0.544571  \n",
       "3        0.611280  0.569983  \n",
       "4        0.611280  0.569983  \n",
       "5        0.806402  0.778360  \n",
       "6        0.730183  0.716800  \n",
       "7        0.774390  0.739437  "
      ]
     },
     "execution_count": 72,
     "metadata": {},
     "output_type": "execute_result"
    }
   ],
   "source": [
    "import sklearn.metrics as metrics\n",
    "#compiling the required information\n",
    "metrics = pd.Series({\"Model\" : \"XGBM\", \n",
    "                                    \"AUC Score\" : metrics.roc_auc_score(y_test, y_pred_xgbm),\n",
    "                                    \"Precision Score\" : metrics.precision_score(y_test, y_pred_xgbm),\n",
    "                                    \"Recall Score\" : metrics.recall_score(y_test, y_pred_xgbm),\n",
    "                                    \"Accuracy Score\" : metrics.accuracy_score(y_test, y_pred_xgbm),\n",
    "                                    \"f1-score\" : metrics.f1_score(y_test, y_pred_xgbm)})\n",
    "#appending our result table\n",
    "result_tabulation = result_tabulation.append(metrics, ignore_index=True)\n",
    "\n",
    "#view the result table\n",
    "result_tabulation"
   ]
  },
  {
   "cell_type": "markdown",
   "id": "bc4ab6b3",
   "metadata": {},
   "source": [
    "### 5.9 Bagging classifier\n",
    "<a id='bag'></a>"
   ]
  },
  {
   "cell_type": "markdown",
   "id": "e4b495dc",
   "metadata": {},
   "source": [
    "#### A Bagging classifier is an ensemble meta-estimator that fits base classifiers each on random subsets of the original dataset and then aggregate their individual predictions (either by voting or by averaging) to form a final prediction.Such a meta-estimator can typically be used as a way to reduce the variance of a black-box estimator (e.g., a decision tree), by introducing randomization into its construction procedure and then making an ensemble out of it."
   ]
  },
  {
   "cell_type": "code",
   "execution_count": 73,
   "id": "eed774c6",
   "metadata": {},
   "outputs": [],
   "source": [
    "from sklearn.ensemble import BaggingClassifier\n",
    "from sklearn import tree\n",
    "\n",
    "meta_estimator = BaggingClassifier(tree.DecisionTreeClassifier(random_state=10))\n",
    "\n",
    "meta_estimator.fit(x_train,y_train)\n",
    "\n",
    "y_pred_bag = meta_estimator.predict(x_test)"
   ]
  },
  {
   "cell_type": "code",
   "execution_count": 74,
   "id": "f7269a2d",
   "metadata": {
    "scrolled": false
   },
   "outputs": [
    {
     "data": {
      "image/png": "[encoded data removed]",
      "text/plain": [
       "<Figure size 576x360 with 1 Axes>"
      ]
     },
     "metadata": {
      "needs_background": "light"
     },
     "output_type": "display_data"
    }
   ],
   "source": [
    "from sklearn.metrics import confusion_matrix\n",
    "\n",
    "cm = confusion_matrix(y_test,y_pred_bag)\n",
    "\n",
    "conf_matrix = pd.DataFrame(data =cm,columns=['Predicted:0','Predicted:1'],index=['Actual:0','Actual:1'])\n",
    "\n",
    "plt.figure(figsize=(8,5))\n",
    "\n",
    "sns.heatmap(conf_matrix,annot=True,fmt='d',cmap=\"YlGnBu\",cbar=False)\n",
    "\n",
    "plt.show()\n"
   ]
  },
  {
   "cell_type": "code",
   "execution_count": 75,
   "id": "0b70571f",
   "metadata": {},
   "outputs": [
    {
     "name": "stdout",
     "output_type": "stream",
     "text": [
      "              precision    recall  f1-score   support\n",
      "\n",
      "           0       0.79      0.81      0.80       373\n",
      "           1       0.74      0.72      0.73       283\n",
      "\n",
      "    accuracy                           0.77       656\n",
      "   macro avg       0.77      0.76      0.76       656\n",
      "weighted avg       0.77      0.77      0.77       656\n",
      "\n"
     ]
    }
   ],
   "source": [
    "from sklearn.metrics import classification_report\n",
    "\n",
    "result = classification_report(y_test, y_pred_bag)\n",
    "print(result)"
   ]
  },
  {
   "cell_type": "code",
   "execution_count": 76,
   "id": "a2b2c473",
   "metadata": {},
   "outputs": [
    {
     "data": {
      "image/png": "[encoded data removed]",
      "text/plain": [
       "<Figure size 576x360 with 1 Axes>"
      ]
     },
     "metadata": {
      "needs_background": "light"
     },
     "output_type": "display_data"
    }
   ],
   "source": [
    "from sklearn.metrics import roc_curve\n",
    "from sklearn.metrics import roc_auc_score\n",
    "\n",
    "plt.rcParams['figure.figsize']=(8,5)\n",
    "\n",
    "fpr,tpr,th = roc_curve(y_test,y_pred_bag)\n",
    "# plor ROC curve\n",
    "plt.plot(fpr,tpr)\n",
    "\n",
    "plt.xlim([0.0,1.0])\n",
    "plt.ylim([0.0,1.0])\n",
    "\n",
    "plt.plot([0,1],[0,1],'r--')  # r-- : Red dashed line\n",
    "\n",
    "#AUC or AUROC is area under ROC curve. The value of AUC tells us the model performance. Higher the AUC \n",
    "# better the model performance\n",
    "#to add AOC score\n",
    "plt.text(x=0.1,y=0.75,s=('AUC Score',round(roc_auc_score(y_test,y_pred_bag),6)))\n",
    "\n",
    "plt.xlabel('False positive rate(1-Specificity)')\n",
    "plt.ylabel('True positive rate(Specificity)')\n",
    "\n",
    "plt.grid(True)"
   ]
  },
  {
   "cell_type": "code",
   "execution_count": 77,
   "id": "12ce8a37",
   "metadata": {},
   "outputs": [
    {
     "data": {
      "text/html": [
       "<div>\n",
       "<style scoped>\n",
       "    .dataframe tbody tr th:only-of-type {\n",
       "        vertical-align: middle;\n",
       "    }\n",
       "\n",
       "    .dataframe tbody tr th {\n",
       "        vertical-align: top;\n",
       "    }\n",
       "\n",
       "    .dataframe thead th {\n",
       "        text-align: right;\n",
       "    }\n",
       "</style>\n",
       "<table border=\"1\" class=\"dataframe\">\n",
       "  <thead>\n",
       "    <tr style=\"text-align: right;\">\n",
       "      <th></th>\n",
       "      <th>Model</th>\n",
       "      <th>AUC Score</th>\n",
       "      <th>Precision Score</th>\n",
       "      <th>Recall Score</th>\n",
       "      <th>Accuracy Score</th>\n",
       "      <th>f1-score</th>\n",
       "    </tr>\n",
       "  </thead>\n",
       "  <tbody>\n",
       "    <tr>\n",
       "      <th>0</th>\n",
       "      <td>logistic_regression</td>\n",
       "      <td>0.502591</td>\n",
       "      <td>0.434084</td>\n",
       "      <td>0.477032</td>\n",
       "      <td>0.506098</td>\n",
       "      <td>0.454545</td>\n",
       "    </tr>\n",
       "    <tr>\n",
       "      <th>1</th>\n",
       "      <td>Naive Bayes</td>\n",
       "      <td>0.534763</td>\n",
       "      <td>0.470383</td>\n",
       "      <td>0.477032</td>\n",
       "      <td>0.542683</td>\n",
       "      <td>0.473684</td>\n",
       "    </tr>\n",
       "    <tr>\n",
       "      <th>2</th>\n",
       "      <td>KNN</td>\n",
       "      <td>0.574300</td>\n",
       "      <td>0.502994</td>\n",
       "      <td>0.593640</td>\n",
       "      <td>0.571646</td>\n",
       "      <td>0.544571</td>\n",
       "    </tr>\n",
       "    <tr>\n",
       "      <th>3</th>\n",
       "      <td>SVM</td>\n",
       "      <td>0.609579</td>\n",
       "      <td>0.545161</td>\n",
       "      <td>0.597173</td>\n",
       "      <td>0.611280</td>\n",
       "      <td>0.569983</td>\n",
       "    </tr>\n",
       "    <tr>\n",
       "      <th>4</th>\n",
       "      <td>Decision tree</td>\n",
       "      <td>0.609579</td>\n",
       "      <td>0.545161</td>\n",
       "      <td>0.597173</td>\n",
       "      <td>0.611280</td>\n",
       "      <td>0.569983</td>\n",
       "    </tr>\n",
       "    <tr>\n",
       "      <th>5</th>\n",
       "      <td>Random Forest</td>\n",
       "      <td>0.804181</td>\n",
       "      <td>0.768966</td>\n",
       "      <td>0.787986</td>\n",
       "      <td>0.806402</td>\n",
       "      <td>0.778360</td>\n",
       "    </tr>\n",
       "    <tr>\n",
       "      <th>6</th>\n",
       "      <td>ADA BOOST</td>\n",
       "      <td>0.737583</td>\n",
       "      <td>0.654971</td>\n",
       "      <td>0.791519</td>\n",
       "      <td>0.730183</td>\n",
       "      <td>0.716800</td>\n",
       "    </tr>\n",
       "    <tr>\n",
       "      <th>7</th>\n",
       "      <td>XGBM</td>\n",
       "      <td>0.770489</td>\n",
       "      <td>0.736842</td>\n",
       "      <td>0.742049</td>\n",
       "      <td>0.774390</td>\n",
       "      <td>0.739437</td>\n",
       "    </tr>\n",
       "    <tr>\n",
       "      <th>8</th>\n",
       "      <td>Bagging classifier</td>\n",
       "      <td>0.763909</td>\n",
       "      <td>0.739130</td>\n",
       "      <td>0.720848</td>\n",
       "      <td>0.769817</td>\n",
       "      <td>0.729875</td>\n",
       "    </tr>\n",
       "  </tbody>\n",
       "</table>\n",
       "</div>"
      ],
      "text/plain": [
       "                  Model  AUC Score  Precision Score  Recall Score  \\\n",
       "0  logistic_regression    0.502591         0.434084      0.477032   \n",
       "1          Naive Bayes    0.534763         0.470383      0.477032   \n",
       "2                  KNN    0.574300         0.502994      0.593640   \n",
       "3                  SVM    0.609579         0.545161      0.597173   \n",
       "4         Decision tree   0.609579         0.545161      0.597173   \n",
       "5         Random Forest   0.804181         0.768966      0.787986   \n",
       "6             ADA BOOST   0.737583         0.654971      0.791519   \n",
       "7                  XGBM   0.770489         0.736842      0.742049   \n",
       "8    Bagging classifier   0.763909         0.739130      0.720848   \n",
       "\n",
       "   Accuracy Score  f1-score  \n",
       "0        0.506098  0.454545  \n",
       "1        0.542683  0.473684  \n",
       "2        0.571646  0.544571  \n",
       "3        0.611280  0.569983  \n",
       "4        0.611280  0.569983  \n",
       "5        0.806402  0.778360  \n",
       "6        0.730183  0.716800  \n",
       "7        0.774390  0.739437  \n",
       "8        0.769817  0.729875  "
      ]
     },
     "execution_count": 77,
     "metadata": {},
     "output_type": "execute_result"
    }
   ],
   "source": [
    "import sklearn.metrics as metrics\n",
    "#compiling the required information\n",
    "metrics = pd.Series({\"Model\" : \"Bagging classifier\", \n",
    "                                    \"AUC Score\" : metrics.roc_auc_score(y_test, y_pred_bag),\n",
    "                                    \"Precision Score\" : metrics.precision_score(y_test, y_pred_bag),\n",
    "                                    \"Recall Score\" : metrics.recall_score(y_test, y_pred_bag),\n",
    "                                    \"Accuracy Score\" : metrics.accuracy_score(y_test, y_pred_bag),\n",
    "                                    \"f1-score\" : metrics.f1_score(y_test, y_pred_bag)})\n",
    "#appending our result table\n",
    "result_tabulation = result_tabulation.append(metrics, ignore_index=True)\n",
    "\n",
    "#view the result table\n",
    "result_tabulation"
   ]
  },
  {
   "cell_type": "markdown",
   "id": "3a00a118",
   "metadata": {},
   "source": [
    "# Results of all models build\n",
    "<a id='conclusion'></a>"
   ]
  },
  {
   "cell_type": "code",
   "execution_count": 78,
   "id": "01bc33c5",
   "metadata": {
    "scrolled": true
   },
   "outputs": [
    {
     "data": {
      "text/html": [
       "<div>\n",
       "<style scoped>\n",
       "    .dataframe tbody tr th:only-of-type {\n",
       "        vertical-align: middle;\n",
       "    }\n",
       "\n",
       "    .dataframe tbody tr th {\n",
       "        vertical-align: top;\n",
       "    }\n",
       "\n",
       "    .dataframe thead th {\n",
       "        text-align: right;\n",
       "    }\n",
       "</style>\n",
       "<table border=\"1\" class=\"dataframe\">\n",
       "  <thead>\n",
       "    <tr style=\"text-align: right;\">\n",
       "      <th></th>\n",
       "      <th>Model</th>\n",
       "      <th>AUC Score</th>\n",
       "      <th>Precision Score</th>\n",
       "      <th>Recall Score</th>\n",
       "      <th>Accuracy Score</th>\n",
       "      <th>f1-score</th>\n",
       "    </tr>\n",
       "  </thead>\n",
       "  <tbody>\n",
       "    <tr>\n",
       "      <th>0</th>\n",
       "      <td>logistic_regression</td>\n",
       "      <td>0.502591</td>\n",
       "      <td>0.434084</td>\n",
       "      <td>0.477032</td>\n",
       "      <td>0.506098</td>\n",
       "      <td>0.454545</td>\n",
       "    </tr>\n",
       "    <tr>\n",
       "      <th>1</th>\n",
       "      <td>Naive Bayes</td>\n",
       "      <td>0.534763</td>\n",
       "      <td>0.470383</td>\n",
       "      <td>0.477032</td>\n",
       "      <td>0.542683</td>\n",
       "      <td>0.473684</td>\n",
       "    </tr>\n",
       "    <tr>\n",
       "      <th>2</th>\n",
       "      <td>KNN</td>\n",
       "      <td>0.574300</td>\n",
       "      <td>0.502994</td>\n",
       "      <td>0.593640</td>\n",
       "      <td>0.571646</td>\n",
       "      <td>0.544571</td>\n",
       "    </tr>\n",
       "    <tr>\n",
       "      <th>3</th>\n",
       "      <td>SVM</td>\n",
       "      <td>0.609579</td>\n",
       "      <td>0.545161</td>\n",
       "      <td>0.597173</td>\n",
       "      <td>0.611280</td>\n",
       "      <td>0.569983</td>\n",
       "    </tr>\n",
       "    <tr>\n",
       "      <th>4</th>\n",
       "      <td>Decision tree</td>\n",
       "      <td>0.609579</td>\n",
       "      <td>0.545161</td>\n",
       "      <td>0.597173</td>\n",
       "      <td>0.611280</td>\n",
       "      <td>0.569983</td>\n",
       "    </tr>\n",
       "    <tr>\n",
       "      <th>5</th>\n",
       "      <td>Random Forest</td>\n",
       "      <td>0.804181</td>\n",
       "      <td>0.768966</td>\n",
       "      <td>0.787986</td>\n",
       "      <td>0.806402</td>\n",
       "      <td>0.778360</td>\n",
       "    </tr>\n",
       "    <tr>\n",
       "      <th>6</th>\n",
       "      <td>ADA BOOST</td>\n",
       "      <td>0.737583</td>\n",
       "      <td>0.654971</td>\n",
       "      <td>0.791519</td>\n",
       "      <td>0.730183</td>\n",
       "      <td>0.716800</td>\n",
       "    </tr>\n",
       "    <tr>\n",
       "      <th>7</th>\n",
       "      <td>XGBM</td>\n",
       "      <td>0.770489</td>\n",
       "      <td>0.736842</td>\n",
       "      <td>0.742049</td>\n",
       "      <td>0.774390</td>\n",
       "      <td>0.739437</td>\n",
       "    </tr>\n",
       "    <tr>\n",
       "      <th>8</th>\n",
       "      <td>Bagging classifier</td>\n",
       "      <td>0.763909</td>\n",
       "      <td>0.739130</td>\n",
       "      <td>0.720848</td>\n",
       "      <td>0.769817</td>\n",
       "      <td>0.729875</td>\n",
       "    </tr>\n",
       "  </tbody>\n",
       "</table>\n",
       "</div>"
      ],
      "text/plain": [
       "                  Model  AUC Score  Precision Score  Recall Score  \\\n",
       "0  logistic_regression    0.502591         0.434084      0.477032   \n",
       "1          Naive Bayes    0.534763         0.470383      0.477032   \n",
       "2                  KNN    0.574300         0.502994      0.593640   \n",
       "3                  SVM    0.609579         0.545161      0.597173   \n",
       "4         Decision tree   0.609579         0.545161      0.597173   \n",
       "5         Random Forest   0.804181         0.768966      0.787986   \n",
       "6             ADA BOOST   0.737583         0.654971      0.791519   \n",
       "7                  XGBM   0.770489         0.736842      0.742049   \n",
       "8    Bagging classifier   0.763909         0.739130      0.720848   \n",
       "\n",
       "   Accuracy Score  f1-score  \n",
       "0        0.506098  0.454545  \n",
       "1        0.542683  0.473684  \n",
       "2        0.571646  0.544571  \n",
       "3        0.611280  0.569983  \n",
       "4        0.611280  0.569983  \n",
       "5        0.806402  0.778360  \n",
       "6        0.730183  0.716800  \n",
       "7        0.774390  0.739437  \n",
       "8        0.769817  0.729875  "
      ]
     },
     "execution_count": 78,
     "metadata": {},
     "output_type": "execute_result"
    }
   ],
   "source": [
    "result_tabulation"
   ]
  },
  {
   "cell_type": "markdown",
   "id": "7c8b4d40",
   "metadata": {},
   "source": [
    "### Comparing all the models Random forest has consistant in precison,recall and accuracy. Hence RANDOM FOREST is the best fit classification model for this dataset."
   ]
  }
 ],
 "metadata": {
  "kernelspec": {
   "display_name": "Python 3",
   "language": "python",
   "name": "python3"
  },
  "language_info": {
   "codemirror_mode": {
    "name": "ipython",
    "version": 3
   },
   "file_extension": ".py",
   "mimetype": "text/x-python",
   "name": "python",
   "nbconvert_exporter": "python",
   "pygments_lexer": "ipython3",
   "version": "3.8.8"
  }
 },
 "nbformat": 4,
 "nbformat_minor": 5
}
